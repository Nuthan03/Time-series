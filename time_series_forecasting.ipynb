{
  "cells": [
    {
      "cell_type": "markdown",
      "metadata": {
        "id": "view-in-github",
        "colab_type": "text"
      },
      "source": [
        "<a href=\"https://colab.research.google.com/github/Nuthan03/Time-series/blob/main/time_series_forecasting.ipynb\" target=\"_parent\"><img src=\"https://colab.research.google.com/assets/colab-badge.svg\" alt=\"Open In Colab\"/></a>"
      ]
    },
    {
      "cell_type": "markdown",
      "metadata": {
        "id": "t6-VsUcbWLrj"
      },
      "source": [
        "# Project 3: Time series forecasting (BitPredict)"
      ]
    },
    {
      "cell_type": "markdown",
      "metadata": {
        "id": "meM-18FLbMqP"
      },
      "source": [
        "## Get data\n",
        "\n",
        "we are going to be using the historical price data of Bitcoin to try and predict the future price of Bitcoin, we dowloaded the data from coinbase"
      ]
    },
    {
      "cell_type": "code",
      "execution_count": 1,
      "metadata": {
        "colab": {
          "base_uri": "https://localhost:8080/"
        },
        "id": "94K75YEQWzzB",
        "outputId": "24c730f4-38f3-4943-9dd1-91fb5c7d4cf1"
      },
      "outputs": [
        {
          "output_type": "stream",
          "name": "stdout",
          "text": [
            "--2024-05-27 11:06:52--  https://raw.githubusercontent.com/mrdbourke/tensorflow-deep-learning/main/extras/BTC_USD_2013-10-01_2021-05-18-CoinDesk.csv\n",
            "Resolving raw.githubusercontent.com (raw.githubusercontent.com)... 185.199.111.133, 185.199.108.133, 185.199.109.133, ...\n",
            "Connecting to raw.githubusercontent.com (raw.githubusercontent.com)|185.199.111.133|:443... connected.\n",
            "HTTP request sent, awaiting response... 200 OK\n",
            "Length: 178509 (174K) [text/plain]\n",
            "Saving to: ‘BTC_USD_2013-10-01_2021-05-18-CoinDesk.csv’\n",
            "\n",
            "BTC_USD_2013-10-01_ 100%[===================>] 174.33K  --.-KB/s    in 0.02s   \n",
            "\n",
            "2024-05-27 11:06:52 (8.24 MB/s) - ‘BTC_USD_2013-10-01_2021-05-18-CoinDesk.csv’ saved [178509/178509]\n",
            "\n"
          ]
        }
      ],
      "source": [
        "!wget https://raw.githubusercontent.com/mrdbourke/tensorflow-deep-learning/main/extras/BTC_USD_2013-10-01_2021-05-18-CoinDesk.csv"
      ]
    },
    {
      "cell_type": "markdown",
      "metadata": {
        "id": "0kGqlF0GbhCX"
      },
      "source": [
        "## Importing time series with pandas"
      ]
    },
    {
      "cell_type": "code",
      "execution_count": 2,
      "metadata": {
        "colab": {
          "base_uri": "https://localhost:8080/",
          "height": 238
        },
        "id": "Ztsnpqorbpms",
        "outputId": "e2b77e6e-b2a7-4603-92d8-4dcbd68b31e4"
      },
      "outputs": [
        {
          "output_type": "execute_result",
          "data": {
            "text/plain": [
              "           Currency  Closing Price (USD)  24h Open (USD)  24h High (USD)  \\\n",
              "Date                                                                       \n",
              "2013-10-01      BTC            123.65499       124.30466       124.75166   \n",
              "2013-10-02      BTC            125.45500       123.65499       125.75850   \n",
              "2013-10-03      BTC            108.58483       125.45500       125.66566   \n",
              "2013-10-04      BTC            118.67466       108.58483       118.67500   \n",
              "2013-10-05      BTC            121.33866       118.67466       121.93633   \n",
              "\n",
              "            24h Low (USD)  \n",
              "Date                       \n",
              "2013-10-01      122.56349  \n",
              "2013-10-02      123.63383  \n",
              "2013-10-03       83.32833  \n",
              "2013-10-04      107.05816  \n",
              "2013-10-05      118.00566  "
            ],
            "text/html": [
              "\n",
              "  <div id=\"df-0cb8995a-9ffe-4884-9d82-a29119cd4b89\" class=\"colab-df-container\">\n",
              "    <div>\n",
              "<style scoped>\n",
              "    .dataframe tbody tr th:only-of-type {\n",
              "        vertical-align: middle;\n",
              "    }\n",
              "\n",
              "    .dataframe tbody tr th {\n",
              "        vertical-align: top;\n",
              "    }\n",
              "\n",
              "    .dataframe thead th {\n",
              "        text-align: right;\n",
              "    }\n",
              "</style>\n",
              "<table border=\"1\" class=\"dataframe\">\n",
              "  <thead>\n",
              "    <tr style=\"text-align: right;\">\n",
              "      <th></th>\n",
              "      <th>Currency</th>\n",
              "      <th>Closing Price (USD)</th>\n",
              "      <th>24h Open (USD)</th>\n",
              "      <th>24h High (USD)</th>\n",
              "      <th>24h Low (USD)</th>\n",
              "    </tr>\n",
              "    <tr>\n",
              "      <th>Date</th>\n",
              "      <th></th>\n",
              "      <th></th>\n",
              "      <th></th>\n",
              "      <th></th>\n",
              "      <th></th>\n",
              "    </tr>\n",
              "  </thead>\n",
              "  <tbody>\n",
              "    <tr>\n",
              "      <th>2013-10-01</th>\n",
              "      <td>BTC</td>\n",
              "      <td>123.65499</td>\n",
              "      <td>124.30466</td>\n",
              "      <td>124.75166</td>\n",
              "      <td>122.56349</td>\n",
              "    </tr>\n",
              "    <tr>\n",
              "      <th>2013-10-02</th>\n",
              "      <td>BTC</td>\n",
              "      <td>125.45500</td>\n",
              "      <td>123.65499</td>\n",
              "      <td>125.75850</td>\n",
              "      <td>123.63383</td>\n",
              "    </tr>\n",
              "    <tr>\n",
              "      <th>2013-10-03</th>\n",
              "      <td>BTC</td>\n",
              "      <td>108.58483</td>\n",
              "      <td>125.45500</td>\n",
              "      <td>125.66566</td>\n",
              "      <td>83.32833</td>\n",
              "    </tr>\n",
              "    <tr>\n",
              "      <th>2013-10-04</th>\n",
              "      <td>BTC</td>\n",
              "      <td>118.67466</td>\n",
              "      <td>108.58483</td>\n",
              "      <td>118.67500</td>\n",
              "      <td>107.05816</td>\n",
              "    </tr>\n",
              "    <tr>\n",
              "      <th>2013-10-05</th>\n",
              "      <td>BTC</td>\n",
              "      <td>121.33866</td>\n",
              "      <td>118.67466</td>\n",
              "      <td>121.93633</td>\n",
              "      <td>118.00566</td>\n",
              "    </tr>\n",
              "  </tbody>\n",
              "</table>\n",
              "</div>\n",
              "    <div class=\"colab-df-buttons\">\n",
              "\n",
              "  <div class=\"colab-df-container\">\n",
              "    <button class=\"colab-df-convert\" onclick=\"convertToInteractive('df-0cb8995a-9ffe-4884-9d82-a29119cd4b89')\"\n",
              "            title=\"Convert this dataframe to an interactive table.\"\n",
              "            style=\"display:none;\">\n",
              "\n",
              "  <svg xmlns=\"http://www.w3.org/2000/svg\" height=\"24px\" viewBox=\"0 -960 960 960\">\n",
              "    <path d=\"M120-120v-720h720v720H120Zm60-500h600v-160H180v160Zm220 220h160v-160H400v160Zm0 220h160v-160H400v160ZM180-400h160v-160H180v160Zm440 0h160v-160H620v160ZM180-180h160v-160H180v160Zm440 0h160v-160H620v160Z\"/>\n",
              "  </svg>\n",
              "    </button>\n",
              "\n",
              "  <style>\n",
              "    .colab-df-container {\n",
              "      display:flex;\n",
              "      gap: 12px;\n",
              "    }\n",
              "\n",
              "    .colab-df-convert {\n",
              "      background-color: #E8F0FE;\n",
              "      border: none;\n",
              "      border-radius: 50%;\n",
              "      cursor: pointer;\n",
              "      display: none;\n",
              "      fill: #1967D2;\n",
              "      height: 32px;\n",
              "      padding: 0 0 0 0;\n",
              "      width: 32px;\n",
              "    }\n",
              "\n",
              "    .colab-df-convert:hover {\n",
              "      background-color: #E2EBFA;\n",
              "      box-shadow: 0px 1px 2px rgba(60, 64, 67, 0.3), 0px 1px 3px 1px rgba(60, 64, 67, 0.15);\n",
              "      fill: #174EA6;\n",
              "    }\n",
              "\n",
              "    .colab-df-buttons div {\n",
              "      margin-bottom: 4px;\n",
              "    }\n",
              "\n",
              "    [theme=dark] .colab-df-convert {\n",
              "      background-color: #3B4455;\n",
              "      fill: #D2E3FC;\n",
              "    }\n",
              "\n",
              "    [theme=dark] .colab-df-convert:hover {\n",
              "      background-color: #434B5C;\n",
              "      box-shadow: 0px 1px 3px 1px rgba(0, 0, 0, 0.15);\n",
              "      filter: drop-shadow(0px 1px 2px rgba(0, 0, 0, 0.3));\n",
              "      fill: #FFFFFF;\n",
              "    }\n",
              "  </style>\n",
              "\n",
              "    <script>\n",
              "      const buttonEl =\n",
              "        document.querySelector('#df-0cb8995a-9ffe-4884-9d82-a29119cd4b89 button.colab-df-convert');\n",
              "      buttonEl.style.display =\n",
              "        google.colab.kernel.accessAllowed ? 'block' : 'none';\n",
              "\n",
              "      async function convertToInteractive(key) {\n",
              "        const element = document.querySelector('#df-0cb8995a-9ffe-4884-9d82-a29119cd4b89');\n",
              "        const dataTable =\n",
              "          await google.colab.kernel.invokeFunction('convertToInteractive',\n",
              "                                                    [key], {});\n",
              "        if (!dataTable) return;\n",
              "\n",
              "        const docLinkHtml = 'Like what you see? Visit the ' +\n",
              "          '<a target=\"_blank\" href=https://colab.research.google.com/notebooks/data_table.ipynb>data table notebook</a>'\n",
              "          + ' to learn more about interactive tables.';\n",
              "        element.innerHTML = '';\n",
              "        dataTable['output_type'] = 'display_data';\n",
              "        await google.colab.output.renderOutput(dataTable, element);\n",
              "        const docLink = document.createElement('div');\n",
              "        docLink.innerHTML = docLinkHtml;\n",
              "        element.appendChild(docLink);\n",
              "      }\n",
              "    </script>\n",
              "  </div>\n",
              "\n",
              "\n",
              "<div id=\"df-90537425-260f-46a1-a5c4-d1b36948272b\">\n",
              "  <button class=\"colab-df-quickchart\" onclick=\"quickchart('df-90537425-260f-46a1-a5c4-d1b36948272b')\"\n",
              "            title=\"Suggest charts\"\n",
              "            style=\"display:none;\">\n",
              "\n",
              "<svg xmlns=\"http://www.w3.org/2000/svg\" height=\"24px\"viewBox=\"0 0 24 24\"\n",
              "     width=\"24px\">\n",
              "    <g>\n",
              "        <path d=\"M19 3H5c-1.1 0-2 .9-2 2v14c0 1.1.9 2 2 2h14c1.1 0 2-.9 2-2V5c0-1.1-.9-2-2-2zM9 17H7v-7h2v7zm4 0h-2V7h2v10zm4 0h-2v-4h2v4z\"/>\n",
              "    </g>\n",
              "</svg>\n",
              "  </button>\n",
              "\n",
              "<style>\n",
              "  .colab-df-quickchart {\n",
              "      --bg-color: #E8F0FE;\n",
              "      --fill-color: #1967D2;\n",
              "      --hover-bg-color: #E2EBFA;\n",
              "      --hover-fill-color: #174EA6;\n",
              "      --disabled-fill-color: #AAA;\n",
              "      --disabled-bg-color: #DDD;\n",
              "  }\n",
              "\n",
              "  [theme=dark] .colab-df-quickchart {\n",
              "      --bg-color: #3B4455;\n",
              "      --fill-color: #D2E3FC;\n",
              "      --hover-bg-color: #434B5C;\n",
              "      --hover-fill-color: #FFFFFF;\n",
              "      --disabled-bg-color: #3B4455;\n",
              "      --disabled-fill-color: #666;\n",
              "  }\n",
              "\n",
              "  .colab-df-quickchart {\n",
              "    background-color: var(--bg-color);\n",
              "    border: none;\n",
              "    border-radius: 50%;\n",
              "    cursor: pointer;\n",
              "    display: none;\n",
              "    fill: var(--fill-color);\n",
              "    height: 32px;\n",
              "    padding: 0;\n",
              "    width: 32px;\n",
              "  }\n",
              "\n",
              "  .colab-df-quickchart:hover {\n",
              "    background-color: var(--hover-bg-color);\n",
              "    box-shadow: 0 1px 2px rgba(60, 64, 67, 0.3), 0 1px 3px 1px rgba(60, 64, 67, 0.15);\n",
              "    fill: var(--button-hover-fill-color);\n",
              "  }\n",
              "\n",
              "  .colab-df-quickchart-complete:disabled,\n",
              "  .colab-df-quickchart-complete:disabled:hover {\n",
              "    background-color: var(--disabled-bg-color);\n",
              "    fill: var(--disabled-fill-color);\n",
              "    box-shadow: none;\n",
              "  }\n",
              "\n",
              "  .colab-df-spinner {\n",
              "    border: 2px solid var(--fill-color);\n",
              "    border-color: transparent;\n",
              "    border-bottom-color: var(--fill-color);\n",
              "    animation:\n",
              "      spin 1s steps(1) infinite;\n",
              "  }\n",
              "\n",
              "  @keyframes spin {\n",
              "    0% {\n",
              "      border-color: transparent;\n",
              "      border-bottom-color: var(--fill-color);\n",
              "      border-left-color: var(--fill-color);\n",
              "    }\n",
              "    20% {\n",
              "      border-color: transparent;\n",
              "      border-left-color: var(--fill-color);\n",
              "      border-top-color: var(--fill-color);\n",
              "    }\n",
              "    30% {\n",
              "      border-color: transparent;\n",
              "      border-left-color: var(--fill-color);\n",
              "      border-top-color: var(--fill-color);\n",
              "      border-right-color: var(--fill-color);\n",
              "    }\n",
              "    40% {\n",
              "      border-color: transparent;\n",
              "      border-right-color: var(--fill-color);\n",
              "      border-top-color: var(--fill-color);\n",
              "    }\n",
              "    60% {\n",
              "      border-color: transparent;\n",
              "      border-right-color: var(--fill-color);\n",
              "    }\n",
              "    80% {\n",
              "      border-color: transparent;\n",
              "      border-right-color: var(--fill-color);\n",
              "      border-bottom-color: var(--fill-color);\n",
              "    }\n",
              "    90% {\n",
              "      border-color: transparent;\n",
              "      border-bottom-color: var(--fill-color);\n",
              "    }\n",
              "  }\n",
              "</style>\n",
              "\n",
              "  <script>\n",
              "    async function quickchart(key) {\n",
              "      const quickchartButtonEl =\n",
              "        document.querySelector('#' + key + ' button');\n",
              "      quickchartButtonEl.disabled = true;  // To prevent multiple clicks.\n",
              "      quickchartButtonEl.classList.add('colab-df-spinner');\n",
              "      try {\n",
              "        const charts = await google.colab.kernel.invokeFunction(\n",
              "            'suggestCharts', [key], {});\n",
              "      } catch (error) {\n",
              "        console.error('Error during call to suggestCharts:', error);\n",
              "      }\n",
              "      quickchartButtonEl.classList.remove('colab-df-spinner');\n",
              "      quickchartButtonEl.classList.add('colab-df-quickchart-complete');\n",
              "    }\n",
              "    (() => {\n",
              "      let quickchartButtonEl =\n",
              "        document.querySelector('#df-90537425-260f-46a1-a5c4-d1b36948272b button');\n",
              "      quickchartButtonEl.style.display =\n",
              "        google.colab.kernel.accessAllowed ? 'block' : 'none';\n",
              "    })();\n",
              "  </script>\n",
              "</div>\n",
              "\n",
              "    </div>\n",
              "  </div>\n"
            ],
            "application/vnd.google.colaboratory.intrinsic+json": {
              "type": "dataframe",
              "variable_name": "df",
              "summary": "{\n  \"name\": \"df\",\n  \"rows\": 2787,\n  \"fields\": [\n    {\n      \"column\": \"Date\",\n      \"properties\": {\n        \"dtype\": \"date\",\n        \"min\": \"2013-10-01 00:00:00\",\n        \"max\": \"2021-05-18 00:00:00\",\n        \"num_unique_values\": 2787,\n        \"samples\": [\n          \"2019-06-11 00:00:00\",\n          \"2021-05-03 00:00:00\",\n          \"2017-10-05 00:00:00\"\n        ],\n        \"semantic_type\": \"\",\n        \"description\": \"\"\n      }\n    },\n    {\n      \"column\": \"Currency\",\n      \"properties\": {\n        \"dtype\": \"category\",\n        \"num_unique_values\": 1,\n        \"samples\": [\n          \"BTC\"\n        ],\n        \"semantic_type\": \"\",\n        \"description\": \"\"\n      }\n    },\n    {\n      \"column\": \"Closing Price (USD)\",\n      \"properties\": {\n        \"dtype\": \"number\",\n        \"std\": 10887.84744436952,\n        \"min\": 108.58483,\n        \"max\": 63346.7890351052,\n        \"num_unique_values\": 2787,\n        \"samples\": [\n          7954.0062377205\n        ],\n        \"semantic_type\": \"\",\n        \"description\": \"\"\n      }\n    },\n    {\n      \"column\": \"24h Open (USD)\",\n      \"properties\": {\n        \"dtype\": \"number\",\n        \"std\": 10863.80077212387,\n        \"min\": 108.58483,\n        \"max\": 63562.6735446382,\n        \"num_unique_values\": 2787,\n        \"samples\": [\n          7600.9225047785\n        ],\n        \"semantic_type\": \"\",\n        \"description\": \"\"\n      }\n    },\n    {\n      \"column\": \"24h High (USD)\",\n      \"properties\": {\n        \"dtype\": \"number\",\n        \"std\": 11206.779756254151,\n        \"min\": 118.675,\n        \"max\": 64801.787869525,\n        \"num_unique_values\": 2787,\n        \"samples\": [\n          8064.9001353225\n        ],\n        \"semantic_type\": \"\",\n        \"description\": \"\"\n      }\n    },\n    {\n      \"column\": \"24h Low (USD)\",\n      \"properties\": {\n        \"dtype\": \"number\",\n        \"std\": 10475.8112518284,\n        \"min\": 83.32833,\n        \"max\": 62094.6329143272,\n        \"num_unique_values\": 2785,\n        \"samples\": [\n          7714.610306452\n        ],\n        \"semantic_type\": \"\",\n        \"description\": \"\"\n      }\n    }\n  ]\n}"
            }
          },
          "metadata": {},
          "execution_count": 2
        }
      ],
      "source": [
        "# Import pandas\n",
        "import pandas as pd\n",
        "# Let's read in our Bitcoin data and parse the dates\n",
        "df = pd.read_csv(\"/content/BTC_USD_2013-10-01_2021-05-18-CoinDesk.csv\",\n",
        "                 parse_dates=[\"Date\"],\n",
        "                 index_col=[\"Date\"]) # prase the date column and tell pandas column 1 is a datetime\n",
        "\n",
        "df.head()"
      ]
    },
    {
      "cell_type": "code",
      "execution_count": 3,
      "metadata": {
        "colab": {
          "base_uri": "https://localhost:8080/"
        },
        "id": "zAx2CxMGcn4d",
        "outputId": "bd7721d1-1598-4bcb-b2fe-31ba0d9a59bb"
      },
      "outputs": [
        {
          "output_type": "stream",
          "name": "stdout",
          "text": [
            "<class 'pandas.core.frame.DataFrame'>\n",
            "DatetimeIndex: 2787 entries, 2013-10-01 to 2021-05-18\n",
            "Data columns (total 5 columns):\n",
            " #   Column               Non-Null Count  Dtype  \n",
            "---  ------               --------------  -----  \n",
            " 0   Currency             2787 non-null   object \n",
            " 1   Closing Price (USD)  2787 non-null   float64\n",
            " 2   24h Open (USD)       2787 non-null   float64\n",
            " 3   24h High (USD)       2787 non-null   float64\n",
            " 4   24h Low (USD)        2787 non-null   float64\n",
            "dtypes: float64(4), object(1)\n",
            "memory usage: 130.6+ KB\n"
          ]
        }
      ],
      "source": [
        "df.info()"
      ]
    },
    {
      "cell_type": "code",
      "execution_count": 4,
      "metadata": {
        "colab": {
          "base_uri": "https://localhost:8080/"
        },
        "id": "HSc3F9yIcsyj",
        "outputId": "7b6fe616-da67-49ab-b0ff-3cc859cd96ca"
      },
      "outputs": [
        {
          "output_type": "execute_result",
          "data": {
            "text/plain": [
              "Currency               2787\n",
              "Closing Price (USD)    2787\n",
              "24h Open (USD)         2787\n",
              "24h High (USD)         2787\n",
              "24h Low (USD)          2787\n",
              "dtype: int64"
            ]
          },
          "metadata": {},
          "execution_count": 4
        }
      ],
      "source": [
        "# How many samples do we have ?\n",
        "df.count()"
      ]
    },
    {
      "cell_type": "markdown",
      "metadata": {
        "id": "Nez_NarHdHSY"
      },
      "source": [
        "We've collected the historical price of Bitcoin for the past ~ 8 years but there's 2787 samples.\n",
        "\n",
        "Typically deep learning models usually like lots and lots and lots of samples (where lots and lots and lots can thousands to tens of thousands to millions).\n",
        "\n",
        "A smaller number of samples is something you'll often run into with time series data problems."
      ]
    },
    {
      "cell_type": "code",
      "execution_count": 5,
      "metadata": {
        "colab": {
          "base_uri": "https://localhost:8080/",
          "height": 238
        },
        "id": "5DCLSu7Ic3Ii",
        "outputId": "5f13d5ff-c83b-4ceb-f229-af0ec6f1e4e8"
      },
      "outputs": [
        {
          "output_type": "execute_result",
          "data": {
            "text/plain": [
              "                Price\n",
              "Date                 \n",
              "2013-10-01  123.65499\n",
              "2013-10-02  125.45500\n",
              "2013-10-03  108.58483\n",
              "2013-10-04  118.67466\n",
              "2013-10-05  121.33866"
            ],
            "text/html": [
              "\n",
              "  <div id=\"df-ebd7e34e-0f38-48e9-bb63-7f85ceef3e90\" class=\"colab-df-container\">\n",
              "    <div>\n",
              "<style scoped>\n",
              "    .dataframe tbody tr th:only-of-type {\n",
              "        vertical-align: middle;\n",
              "    }\n",
              "\n",
              "    .dataframe tbody tr th {\n",
              "        vertical-align: top;\n",
              "    }\n",
              "\n",
              "    .dataframe thead th {\n",
              "        text-align: right;\n",
              "    }\n",
              "</style>\n",
              "<table border=\"1\" class=\"dataframe\">\n",
              "  <thead>\n",
              "    <tr style=\"text-align: right;\">\n",
              "      <th></th>\n",
              "      <th>Price</th>\n",
              "    </tr>\n",
              "    <tr>\n",
              "      <th>Date</th>\n",
              "      <th></th>\n",
              "    </tr>\n",
              "  </thead>\n",
              "  <tbody>\n",
              "    <tr>\n",
              "      <th>2013-10-01</th>\n",
              "      <td>123.65499</td>\n",
              "    </tr>\n",
              "    <tr>\n",
              "      <th>2013-10-02</th>\n",
              "      <td>125.45500</td>\n",
              "    </tr>\n",
              "    <tr>\n",
              "      <th>2013-10-03</th>\n",
              "      <td>108.58483</td>\n",
              "    </tr>\n",
              "    <tr>\n",
              "      <th>2013-10-04</th>\n",
              "      <td>118.67466</td>\n",
              "    </tr>\n",
              "    <tr>\n",
              "      <th>2013-10-05</th>\n",
              "      <td>121.33866</td>\n",
              "    </tr>\n",
              "  </tbody>\n",
              "</table>\n",
              "</div>\n",
              "    <div class=\"colab-df-buttons\">\n",
              "\n",
              "  <div class=\"colab-df-container\">\n",
              "    <button class=\"colab-df-convert\" onclick=\"convertToInteractive('df-ebd7e34e-0f38-48e9-bb63-7f85ceef3e90')\"\n",
              "            title=\"Convert this dataframe to an interactive table.\"\n",
              "            style=\"display:none;\">\n",
              "\n",
              "  <svg xmlns=\"http://www.w3.org/2000/svg\" height=\"24px\" viewBox=\"0 -960 960 960\">\n",
              "    <path d=\"M120-120v-720h720v720H120Zm60-500h600v-160H180v160Zm220 220h160v-160H400v160Zm0 220h160v-160H400v160ZM180-400h160v-160H180v160Zm440 0h160v-160H620v160ZM180-180h160v-160H180v160Zm440 0h160v-160H620v160Z\"/>\n",
              "  </svg>\n",
              "    </button>\n",
              "\n",
              "  <style>\n",
              "    .colab-df-container {\n",
              "      display:flex;\n",
              "      gap: 12px;\n",
              "    }\n",
              "\n",
              "    .colab-df-convert {\n",
              "      background-color: #E8F0FE;\n",
              "      border: none;\n",
              "      border-radius: 50%;\n",
              "      cursor: pointer;\n",
              "      display: none;\n",
              "      fill: #1967D2;\n",
              "      height: 32px;\n",
              "      padding: 0 0 0 0;\n",
              "      width: 32px;\n",
              "    }\n",
              "\n",
              "    .colab-df-convert:hover {\n",
              "      background-color: #E2EBFA;\n",
              "      box-shadow: 0px 1px 2px rgba(60, 64, 67, 0.3), 0px 1px 3px 1px rgba(60, 64, 67, 0.15);\n",
              "      fill: #174EA6;\n",
              "    }\n",
              "\n",
              "    .colab-df-buttons div {\n",
              "      margin-bottom: 4px;\n",
              "    }\n",
              "\n",
              "    [theme=dark] .colab-df-convert {\n",
              "      background-color: #3B4455;\n",
              "      fill: #D2E3FC;\n",
              "    }\n",
              "\n",
              "    [theme=dark] .colab-df-convert:hover {\n",
              "      background-color: #434B5C;\n",
              "      box-shadow: 0px 1px 3px 1px rgba(0, 0, 0, 0.15);\n",
              "      filter: drop-shadow(0px 1px 2px rgba(0, 0, 0, 0.3));\n",
              "      fill: #FFFFFF;\n",
              "    }\n",
              "  </style>\n",
              "\n",
              "    <script>\n",
              "      const buttonEl =\n",
              "        document.querySelector('#df-ebd7e34e-0f38-48e9-bb63-7f85ceef3e90 button.colab-df-convert');\n",
              "      buttonEl.style.display =\n",
              "        google.colab.kernel.accessAllowed ? 'block' : 'none';\n",
              "\n",
              "      async function convertToInteractive(key) {\n",
              "        const element = document.querySelector('#df-ebd7e34e-0f38-48e9-bb63-7f85ceef3e90');\n",
              "        const dataTable =\n",
              "          await google.colab.kernel.invokeFunction('convertToInteractive',\n",
              "                                                    [key], {});\n",
              "        if (!dataTable) return;\n",
              "\n",
              "        const docLinkHtml = 'Like what you see? Visit the ' +\n",
              "          '<a target=\"_blank\" href=https://colab.research.google.com/notebooks/data_table.ipynb>data table notebook</a>'\n",
              "          + ' to learn more about interactive tables.';\n",
              "        element.innerHTML = '';\n",
              "        dataTable['output_type'] = 'display_data';\n",
              "        await google.colab.output.renderOutput(dataTable, element);\n",
              "        const docLink = document.createElement('div');\n",
              "        docLink.innerHTML = docLinkHtml;\n",
              "        element.appendChild(docLink);\n",
              "      }\n",
              "    </script>\n",
              "  </div>\n",
              "\n",
              "\n",
              "<div id=\"df-153bda2e-1c0c-4131-855c-82615207115f\">\n",
              "  <button class=\"colab-df-quickchart\" onclick=\"quickchart('df-153bda2e-1c0c-4131-855c-82615207115f')\"\n",
              "            title=\"Suggest charts\"\n",
              "            style=\"display:none;\">\n",
              "\n",
              "<svg xmlns=\"http://www.w3.org/2000/svg\" height=\"24px\"viewBox=\"0 0 24 24\"\n",
              "     width=\"24px\">\n",
              "    <g>\n",
              "        <path d=\"M19 3H5c-1.1 0-2 .9-2 2v14c0 1.1.9 2 2 2h14c1.1 0 2-.9 2-2V5c0-1.1-.9-2-2-2zM9 17H7v-7h2v7zm4 0h-2V7h2v10zm4 0h-2v-4h2v4z\"/>\n",
              "    </g>\n",
              "</svg>\n",
              "  </button>\n",
              "\n",
              "<style>\n",
              "  .colab-df-quickchart {\n",
              "      --bg-color: #E8F0FE;\n",
              "      --fill-color: #1967D2;\n",
              "      --hover-bg-color: #E2EBFA;\n",
              "      --hover-fill-color: #174EA6;\n",
              "      --disabled-fill-color: #AAA;\n",
              "      --disabled-bg-color: #DDD;\n",
              "  }\n",
              "\n",
              "  [theme=dark] .colab-df-quickchart {\n",
              "      --bg-color: #3B4455;\n",
              "      --fill-color: #D2E3FC;\n",
              "      --hover-bg-color: #434B5C;\n",
              "      --hover-fill-color: #FFFFFF;\n",
              "      --disabled-bg-color: #3B4455;\n",
              "      --disabled-fill-color: #666;\n",
              "  }\n",
              "\n",
              "  .colab-df-quickchart {\n",
              "    background-color: var(--bg-color);\n",
              "    border: none;\n",
              "    border-radius: 50%;\n",
              "    cursor: pointer;\n",
              "    display: none;\n",
              "    fill: var(--fill-color);\n",
              "    height: 32px;\n",
              "    padding: 0;\n",
              "    width: 32px;\n",
              "  }\n",
              "\n",
              "  .colab-df-quickchart:hover {\n",
              "    background-color: var(--hover-bg-color);\n",
              "    box-shadow: 0 1px 2px rgba(60, 64, 67, 0.3), 0 1px 3px 1px rgba(60, 64, 67, 0.15);\n",
              "    fill: var(--button-hover-fill-color);\n",
              "  }\n",
              "\n",
              "  .colab-df-quickchart-complete:disabled,\n",
              "  .colab-df-quickchart-complete:disabled:hover {\n",
              "    background-color: var(--disabled-bg-color);\n",
              "    fill: var(--disabled-fill-color);\n",
              "    box-shadow: none;\n",
              "  }\n",
              "\n",
              "  .colab-df-spinner {\n",
              "    border: 2px solid var(--fill-color);\n",
              "    border-color: transparent;\n",
              "    border-bottom-color: var(--fill-color);\n",
              "    animation:\n",
              "      spin 1s steps(1) infinite;\n",
              "  }\n",
              "\n",
              "  @keyframes spin {\n",
              "    0% {\n",
              "      border-color: transparent;\n",
              "      border-bottom-color: var(--fill-color);\n",
              "      border-left-color: var(--fill-color);\n",
              "    }\n",
              "    20% {\n",
              "      border-color: transparent;\n",
              "      border-left-color: var(--fill-color);\n",
              "      border-top-color: var(--fill-color);\n",
              "    }\n",
              "    30% {\n",
              "      border-color: transparent;\n",
              "      border-left-color: var(--fill-color);\n",
              "      border-top-color: var(--fill-color);\n",
              "      border-right-color: var(--fill-color);\n",
              "    }\n",
              "    40% {\n",
              "      border-color: transparent;\n",
              "      border-right-color: var(--fill-color);\n",
              "      border-top-color: var(--fill-color);\n",
              "    }\n",
              "    60% {\n",
              "      border-color: transparent;\n",
              "      border-right-color: var(--fill-color);\n",
              "    }\n",
              "    80% {\n",
              "      border-color: transparent;\n",
              "      border-right-color: var(--fill-color);\n",
              "      border-bottom-color: var(--fill-color);\n",
              "    }\n",
              "    90% {\n",
              "      border-color: transparent;\n",
              "      border-bottom-color: var(--fill-color);\n",
              "    }\n",
              "  }\n",
              "</style>\n",
              "\n",
              "  <script>\n",
              "    async function quickchart(key) {\n",
              "      const quickchartButtonEl =\n",
              "        document.querySelector('#' + key + ' button');\n",
              "      quickchartButtonEl.disabled = true;  // To prevent multiple clicks.\n",
              "      quickchartButtonEl.classList.add('colab-df-spinner');\n",
              "      try {\n",
              "        const charts = await google.colab.kernel.invokeFunction(\n",
              "            'suggestCharts', [key], {});\n",
              "      } catch (error) {\n",
              "        console.error('Error during call to suggestCharts:', error);\n",
              "      }\n",
              "      quickchartButtonEl.classList.remove('colab-df-spinner');\n",
              "      quickchartButtonEl.classList.add('colab-df-quickchart-complete');\n",
              "    }\n",
              "    (() => {\n",
              "      let quickchartButtonEl =\n",
              "        document.querySelector('#df-153bda2e-1c0c-4131-855c-82615207115f button');\n",
              "      quickchartButtonEl.style.display =\n",
              "        google.colab.kernel.accessAllowed ? 'block' : 'none';\n",
              "    })();\n",
              "  </script>\n",
              "</div>\n",
              "\n",
              "    </div>\n",
              "  </div>\n"
            ],
            "application/vnd.google.colaboratory.intrinsic+json": {
              "type": "dataframe",
              "variable_name": "bitcoin_prices",
              "summary": "{\n  \"name\": \"bitcoin_prices\",\n  \"rows\": 2787,\n  \"fields\": [\n    {\n      \"column\": \"Date\",\n      \"properties\": {\n        \"dtype\": \"date\",\n        \"min\": \"2013-10-01 00:00:00\",\n        \"max\": \"2021-05-18 00:00:00\",\n        \"num_unique_values\": 2787,\n        \"samples\": [\n          \"2019-06-11 00:00:00\",\n          \"2021-05-03 00:00:00\",\n          \"2017-10-05 00:00:00\"\n        ],\n        \"semantic_type\": \"\",\n        \"description\": \"\"\n      }\n    },\n    {\n      \"column\": \"Price\",\n      \"properties\": {\n        \"dtype\": \"number\",\n        \"std\": 10887.84744436952,\n        \"min\": 108.58483,\n        \"max\": 63346.7890351052,\n        \"num_unique_values\": 2787,\n        \"samples\": [\n          7954.0062377205,\n          56427.0431250152,\n          4186.78374\n        ],\n        \"semantic_type\": \"\",\n        \"description\": \"\"\n      }\n    }\n  ]\n}"
            }
          },
          "metadata": {},
          "execution_count": 5
        }
      ],
      "source": [
        "# Only want closing price for each day\n",
        "bitcoin_prices = pd.DataFrame(df[\"Closing Price (USD)\"]).rename(columns={\"Closing Price (USD)\": \"Price\"})\n",
        "bitcoin_prices.head()"
      ]
    },
    {
      "cell_type": "code",
      "execution_count": 6,
      "metadata": {
        "colab": {
          "base_uri": "https://localhost:8080/",
          "height": 643
        },
        "id": "jDalBwwdgx7D",
        "outputId": "76c2b5a5-c59c-40c1-888c-865656cf4bc9"
      },
      "outputs": [
        {
          "output_type": "display_data",
          "data": {
            "text/plain": [
              "<Figure size 1000x700 with 1 Axes>"
            ],
            "image/png": "[encoded data removed]"
          },
          "metadata": {}
        }
      ],
      "source": [
        "import matplotlib.pyplot as plt\n",
        "bitcoin_prices.plot(figsize=(10, 7))\n",
        "plt.ylabel(\"BTC Price\")\n",
        "plt.title(\"Price of Bitcoin from 1 Oct 2013 to 18 May 2021\", fontsize=16)\n",
        "plt.legend(fontsize=14);"
      ]
    },
    {
      "cell_type": "markdown",
      "metadata": {
        "id": "dm7Olr8QhRUr"
      },
      "source": [
        "## Importing time series data with Python's CSV module"
      ]
    },
    {
      "cell_type": "code",
      "execution_count": 7,
      "metadata": {
        "colab": {
          "base_uri": "https://localhost:8080/"
        },
        "id": "eJxrJJIUh0_T",
        "outputId": "62f6ae3a-a593-40b9-9e73-7ff6e7e43d8e"
      },
      "outputs": [
        {
          "output_type": "execute_result",
          "data": {
            "text/plain": [
              "([datetime.datetime(2013, 10, 1, 0, 0),\n",
              "  datetime.datetime(2013, 10, 2, 0, 0),\n",
              "  datetime.datetime(2013, 10, 3, 0, 0),\n",
              "  datetime.datetime(2013, 10, 4, 0, 0),\n",
              "  datetime.datetime(2013, 10, 5, 0, 0),\n",
              "  datetime.datetime(2013, 10, 6, 0, 0),\n",
              "  datetime.datetime(2013, 10, 7, 0, 0),\n",
              "  datetime.datetime(2013, 10, 8, 0, 0),\n",
              "  datetime.datetime(2013, 10, 9, 0, 0),\n",
              "  datetime.datetime(2013, 10, 10, 0, 0)],\n",
              " [123.65499,\n",
              "  125.455,\n",
              "  108.58483,\n",
              "  118.67466,\n",
              "  121.33866,\n",
              "  120.65533,\n",
              "  121.795,\n",
              "  123.033,\n",
              "  124.049,\n",
              "  125.96116])"
            ]
          },
          "metadata": {},
          "execution_count": 7
        }
      ],
      "source": [
        "# Importing and formatting historical Bitcoin data with python\n",
        "import csv\n",
        "from datetime import datetime\n",
        "\n",
        "timesteps  = []\n",
        "btc_price = []\n",
        "with open(\"/content/BTC_USD_2013-10-01_2021-05-18-CoinDesk.csv\", \"r\") as f:\n",
        "  csv_reader = csv.reader(f, delimiter=\",\")\n",
        "  next(csv_reader) # Skip the first line(get's rid of the column titles)\n",
        "  for line in csv_reader:\n",
        "    timesteps.append(datetime.strptime(line[1], \"%Y-%m-%d\")) # get the dates as dates\n",
        "    btc_price.append(float(line[2])) # get the closing prices as float\n",
        "\n",
        "# View first 10 of each\n",
        "timesteps[:10], btc_price[:10]"
      ]
    },
    {
      "cell_type": "code",
      "execution_count": 8,
      "metadata": {
        "colab": {
          "base_uri": "https://localhost:8080/",
          "height": 643
        },
        "id": "2-7OiipJjy_0",
        "outputId": "e7657424-1e33-4a3f-dfd8-d5e236bcebad"
      },
      "outputs": [
        {
          "output_type": "display_data",
          "data": {
            "text/plain": [
              "<Figure size 1000x700 with 1 Axes>"
            ],
            "image/png": "[encoded data removed]"
          },
          "metadata": {}
        }
      ],
      "source": [
        "# Plot from csv\n",
        "import matplotlib.pyplot as plt\n",
        "import numpy as np\n",
        "plt.figure(figsize=(10, 7))\n",
        "plt.plot(timesteps, btc_price)\n",
        "plt.ylabel(\"BTC Price\")\n",
        "plt.title(\"Price of Bitcoin from 1 Ovt 2013 to 18 May 2021\", fontsize=16)\n",
        "plt.xlabel(\"Date\");"
      ]
    },
    {
      "cell_type": "markdown",
      "metadata": {
        "id": "91CCzEqIk_B9"
      },
      "source": [
        "## Format data part 1: Create train and test sets of our time series data"
      ]
    },
    {
      "cell_type": "markdown",
      "metadata": {
        "id": "Hf5km_GoliJM"
      },
      "source": [
        "### Creating train and test sets with time series data(the wrong way)"
      ]
    },
    {
      "cell_type": "code",
      "execution_count": 9,
      "metadata": {
        "colab": {
          "base_uri": "https://localhost:8080/"
        },
        "id": "3-R0aHkBlqaa",
        "outputId": "489aff12-9f7f-4d11-9a6b-ed7ebe01d528"
      },
      "outputs": [
        {
          "output_type": "execute_result",
          "data": {
            "text/plain": [
              "(array(['2013-10-01T00:00:00.000000000', '2013-10-02T00:00:00.000000000',\n",
              "        '2013-10-03T00:00:00.000000000', '2013-10-04T00:00:00.000000000',\n",
              "        '2013-10-05T00:00:00.000000000', '2013-10-06T00:00:00.000000000',\n",
              "        '2013-10-07T00:00:00.000000000', '2013-10-08T00:00:00.000000000',\n",
              "        '2013-10-09T00:00:00.000000000', '2013-10-10T00:00:00.000000000'],\n",
              "       dtype='datetime64[ns]'),\n",
              " array([123.65499, 125.455  , 108.58483, 118.67466, 121.33866, 120.65533,\n",
              "        121.795  , 123.033  , 124.049  , 125.96116]))"
            ]
          },
          "metadata": {},
          "execution_count": 9
        }
      ],
      "source": [
        "# Get bitcoin data array\n",
        "timesteps = bitcoin_prices.index.to_numpy()\n",
        "prices = bitcoin_prices[\"Price\"].to_numpy()\n",
        "\n",
        "timesteps[:10], prices[:10]"
      ]
    },
    {
      "cell_type": "code",
      "execution_count": 10,
      "metadata": {
        "colab": {
          "base_uri": "https://localhost:8080/"
        },
        "id": "Tjb2kQ9ymPds",
        "outputId": "b74f87a9-6031-434e-817d-bdfe52fe4e11"
      },
      "outputs": [
        {
          "output_type": "execute_result",
          "data": {
            "text/plain": [
              "((2229,), (558,), (2229,), (558,))"
            ]
          },
          "metadata": {},
          "execution_count": 10
        }
      ],
      "source": [
        "# Wrong way to make train/test sets for time series data\n",
        "from sklearn.model_selection import train_test_split\n",
        "\n",
        "x_train, x_test, y_train, y_test = train_test_split(timesteps, # dates\n",
        "                                                    prices, # prices\n",
        "                                                    test_size=0.2,\n",
        "                                                    random_state=42)\n",
        "\n",
        "x_train.shape, x_test.shape, y_train.shape, y_test.shape"
      ]
    },
    {
      "cell_type": "code",
      "execution_count": 11,
      "metadata": {
        "colab": {
          "base_uri": "https://localhost:8080/",
          "height": 619
        },
        "id": "60WjvHzom2n1",
        "outputId": "d2da0964-672e-4ffb-877e-3284293bc45d"
      },
      "outputs": [
        {
          "output_type": "display_data",
          "data": {
            "text/plain": [
              "<Figure size 1000x700 with 1 Axes>"
            ],
            "image/png": "[encoded data removed]"
          },
          "metadata": {}
        }
      ],
      "source": [
        "# Let's plot wrong train and test splits\n",
        "plt.figure(figsize=(10, 7))\n",
        "plt.scatter(x_train, y_train, s=5, label=\"Train data\")\n",
        "plt.scatter(x_test, y_test, s=5, label=\"Test data\")\n",
        "plt.xlabel(\"Date\")\n",
        "plt.ylabel(\"BTC Price\")\n",
        "plt.legend(fontsize=14)\n",
        "plt.show();"
      ]
    },
    {
      "cell_type": "markdown",
      "metadata": {
        "id": "vvmycOlan6YF"
      },
      "source": [
        "### Create train and test sets for time series (the right way)"
      ]
    },
    {
      "cell_type": "code",
      "execution_count": 12,
      "metadata": {
        "colab": {
          "base_uri": "https://localhost:8080/"
        },
        "id": "nS11jDbIog8z",
        "outputId": "d373275e-e4ab-4ecb-dff2-07a5c32bd363"
      },
      "outputs": [
        {
          "output_type": "execute_result",
          "data": {
            "text/plain": [
              "(2229, 558, 2229, 558)"
            ]
          },
          "metadata": {},
          "execution_count": 12
        }
      ],
      "source": [
        "# Create train and test splits the right way for time series data\n",
        "split_size = int(0.8 * len(prices)) # 80% train, 20% test\n",
        "\n",
        "# Create train data splits (everything before the split)\n",
        "x_train, y_train = timesteps[:split_size], prices[:split_size]\n",
        "\n",
        "# Create test data splits (everything beyond the split)\n",
        "x_test, y_test = timesteps[split_size:], prices[split_size:]\n",
        "\n",
        "len(x_train), len(x_test), len(y_train), len(y_test)"
      ]
    },
    {
      "cell_type": "code",
      "execution_count": 13,
      "metadata": {
        "colab": {
          "base_uri": "https://localhost:8080/",
          "height": 619
        },
        "id": "FqEIxKmCqYF-",
        "outputId": "96503224-633f-447f-97b2-5fce1c7f683d"
      },
      "outputs": [
        {
          "output_type": "display_data",
          "data": {
            "text/plain": [
              "<Figure size 1000x700 with 1 Axes>"
            ],
            "image/png": "[encoded data removed]"
          },
          "metadata": {}
        }
      ],
      "source": [
        "# Plot correctly made splits\n",
        "plt.figure(figsize=(10, 7))\n",
        "plt.scatter(x_train, y_train, s=5, label=\"Train data\")\n",
        "plt.scatter(x_test, y_test, s=5, label=\"Test data\")\n",
        "plt.xlabel(\"Date\")\n",
        "plt.ylabel(\"BTC Price\")\n",
        "plt.legend(fontsize=14)\n",
        "plt.show();"
      ]
    },
    {
      "cell_type": "markdown",
      "metadata": {
        "id": "dsYeuPjVqhes"
      },
      "source": [
        "## Create a plotting function"
      ]
    },
    {
      "cell_type": "code",
      "execution_count": 14,
      "metadata": {
        "id": "NT_aUfZlrOG0"
      },
      "outputs": [],
      "source": [
        "# Create a function a plot time series data\n",
        "def plot_time_series(timesteps, values, format='.', start=0, end=None, label=None):\n",
        "  \"\"\"\n",
        "   Plots a timesteps (a series of points in time) against values (a series of values across timesteps).\n",
        "\n",
        "  Parameters\n",
        "  ---------\n",
        "  timesteps : array of timesteps\n",
        "  values : array of values across time\n",
        "  format : style of plot, default \".\"\n",
        "  start : where to start the plot (setting a value will index from start of timesteps & values)\n",
        "  end : where to end the plot (setting a value will index from end of timesteps & values)\n",
        "  label : label to show on plot of values\n",
        "  \"\"\"\n",
        "\n",
        "  # Plot the series\n",
        "\n",
        "\n",
        "  plt.plot(timesteps[start:end], values[start:end], format, label=label)\n",
        "  plt.xlabel(\"Time\")\n",
        "  plt.ylabel(\"BTC Price\")\n",
        "  if label:\n",
        "    plt.legend(fontsize=14) # make label bigger\n",
        "  plt.grid(True)"
      ]
    },
    {
      "cell_type": "code",
      "execution_count": 15,
      "metadata": {
        "colab": {
          "base_uri": "https://localhost:8080/",
          "height": 619
        },
        "id": "MMOGPMk_se3F",
        "outputId": "61ee69dc-1527-4de9-ad19-30189f59cc70"
      },
      "outputs": [
        {
          "output_type": "display_data",
          "data": {
            "text/plain": [
              "<Figure size 1000x700 with 1 Axes>"
            ],
            "image/png": "[encoded data removed]"
          },
          "metadata": {}
        }
      ],
      "source": [
        "# Test out plotting function\n",
        "plt.figure(figsize=(10, 7))\n",
        "plot_time_series(timesteps=x_train, values=y_train, label=\"Train data\")\n",
        "plot_time_series(timesteps=x_test, values=y_test, label=\"Test data\")"
      ]
    },
    {
      "cell_type": "markdown",
      "metadata": {
        "id": "IhFDQWg3tddV"
      },
      "source": [
        "## Modelling Experiments\n",
        "\n",
        "we have got some Bitcoin historical data, to model it, let's run a series of modelling experiments and see which model performs best.\n",
        "\n",
        "Terms to be familiar with:\n",
        "\n",
        "  * **horizon** = number of timesteps to predict into future\n",
        "  * **window** = number of timesteps from past used to predict **horizon**\n",
        "\n",
        "\n",
        "| Model Number | Model Type | Horizon size | Window size | Extra data |\n",
        "| ----- | ----- | ----- | ----- | ----- |\n",
        "| 0 | Naïve model (baseline) | NA | NA | NA |\n",
        "| 1 | Dense model | 1 | 7 | NA |\n",
        "| 2 | Same as 1 | 1 | 30 | NA |\n",
        "| 3 | Same as 1 | 7 | 30 | NA |\n",
        "| 4 | Conv1D | 1 | 7 | NA |\n",
        "| 5 | LSTM | 1 | 7 | NA |\n",
        "| 6 | Same as 1 (but with multivariate data) | 1 | 7 | Block reward size |\n",
        "| 7 | [N-BEATs Algorithm](https://arxiv.org/pdf/1905.10437.pdf) | 1 | 7 | NA |\n",
        "| 8 | Ensemble (multiple models optimized on different loss functions) | 1 | 7 | NA |\n",
        "| 9 | Future prediction model (model to predict future values) | 1 | 7 | NA|\n",
        "| 10 | Same as 1 (but with turkey 🦃 data introduced) | 1 | 7 | NA |"
      ]
    },
    {
      "cell_type": "markdown",
      "metadata": {
        "id": "F0JRKg39wiOV"
      },
      "source": [
        "## Model 0: Naive forecast(baseline)\n",
        "\n",
        "The formula looks like this:\n",
        "\n",
        "$$\\hat{y}_{t} = y_{t-1}$$\n",
        "\n",
        "In English:\n",
        "> The prediction at timestep `t` (y-hat) is equal to the value at timestep `t-1` (the previous timestep).\n",
        "\n"
      ]
    },
    {
      "cell_type": "code",
      "execution_count": 16,
      "metadata": {
        "colab": {
          "base_uri": "https://localhost:8080/"
        },
        "id": "uh71Lox7xk2j",
        "outputId": "91e9cb02-3855-444e-b2a5-2792f0e96934"
      },
      "outputs": [
        {
          "output_type": "execute_result",
          "data": {
            "text/plain": [
              "(array([9226.48582088, 8794.35864452, 8798.04205463, 9081.18687849,\n",
              "        8711.53433917, 8760.89271814, 8749.52059102, 8656.97092235,\n",
              "        8500.64355816, 8469.2608989 ]),\n",
              " array([57107.12067189, 58788.20967893, 58102.19142623, 55715.54665129,\n",
              "        56573.5554719 , 52147.82118698, 49764.1320816 , 50032.69313676,\n",
              "        47885.62525472, 45604.61575361]))"
            ]
          },
          "metadata": {},
          "execution_count": 16
        }
      ],
      "source": [
        "# Create a naive forecast\n",
        "naive_forecast = y_test[:-1]\n",
        "\n",
        "naive_forecast[:10], naive_forecast[-10:]\n"
      ]
    },
    {
      "cell_type": "code",
      "execution_count": 17,
      "metadata": {
        "colab": {
          "base_uri": "https://localhost:8080/",
          "height": 619
        },
        "id": "VfS-HpI1yfat",
        "outputId": "38476a11-3ce2-46cb-b2d8-ba3e9a98eb85"
      },
      "outputs": [
        {
          "output_type": "display_data",
          "data": {
            "text/plain": [
              "<Figure size 1000x700 with 1 Axes>"
            ],
            "image/png": "[encoded data removed]"
          },
          "metadata": {}
        }
      ],
      "source": [
        "# Plot naive forecast\n",
        "plt.figure(figsize=(10, 7))\n",
        "plot_time_series(timesteps=x_train, values=y_train, label=\"Train data\")\n",
        "plot_time_series(timesteps=x_test, values=y_test, label=\"Test data\")\n",
        "plot_time_series(timesteps=x_test[1:], values=naive_forecast, format=\"-\", label=\"Naive forecast\");"
      ]
    },
    {
      "cell_type": "markdown",
      "metadata": {
        "id": "7QZQ0YN-ztgu"
      },
      "source": [
        "## Evaluating a time series model\n",
        "\n",
        "Let's look into some evaluation metrics for time series forecasting.\n",
        "\n",
        "We're predicting a number, so that means we have a form of a regression problem.\n",
        "\n",
        "Because we're working on a regression problem, we'll need some regression-like metrics.\n",
        "\n",
        "A few common regression metrics (which can also be used for time series forecasting):\n",
        "* MAE : mean absolute error\n",
        "* MSE : mean squared error\n",
        "* RMSE : root mean squared error\n",
        "* MAPE/sMAPE-(symmetric)mean absolute percentage error\n",
        "* MASE : mean absolute scaled error\n",
        "\n"
      ]
    },
    {
      "cell_type": "code",
      "execution_count": 18,
      "metadata": {
        "id": "c5mC7Co11mXG"
      },
      "outputs": [],
      "source": [
        "# Let's get tensorflow\n",
        "import tensorflow as tf"
      ]
    },
    {
      "cell_type": "code",
      "execution_count": 19,
      "metadata": {
        "id": "VcKDztQw8sMq"
      },
      "outputs": [],
      "source": [
        "# MASE implementation\n",
        "def mean_absolute_scaled_error(y_true, y_preds):\n",
        "  \"\"\"\n",
        "  Implemet MASE (assuming no seasonality of data)\n",
        "  \"\"\"\n",
        "  mae = tf.reduce_mean(tf.abs(y_true - y_preds))\n",
        "\n",
        "  # Find MAE of navie forecast (no seasonality)\n",
        "  mae_navie_no_season = tf.reduce_mean(tf.abs(y_true[1:] - y_true[:1]))\n",
        "\n",
        "  return mae / mae_navie_no_season"
      ]
    },
    {
      "cell_type": "code",
      "execution_count": 20,
      "metadata": {
        "colab": {
          "base_uri": "https://localhost:8080/"
        },
        "id": "TKVUqMC696Oh",
        "outputId": "390f1147-10d6-4fe0-a6c8-8b248213947e"
      },
      "outputs": [
        {
          "output_type": "execute_result",
          "data": {
            "text/plain": [
              "0.04742710938980206"
            ]
          },
          "metadata": {},
          "execution_count": 20
        }
      ],
      "source": [
        "mean_absolute_scaled_error(y_true=y_test[1:], y_preds=naive_forecast).numpy()"
      ]
    },
    {
      "cell_type": "code",
      "execution_count": 21,
      "metadata": {
        "id": "6bQg6un3-q0R"
      },
      "outputs": [],
      "source": [
        "# Create a function to take in model predictions and truth values and return evaluation metrics\n",
        "def evaluate_preds(y_true, y_pred):\n",
        "  # Make sure float32 (for metric calculations)\n",
        "  y_true = tf.cast(y_true, dtype=tf.float32)\n",
        "  y_pred = tf.cast(y_pred, dtype=tf.float32)\n",
        "\n",
        "  # Calculate various evaluation metrics\n",
        "  mae = tf.keras.metrics.mean_absolute_error(y_true, y_pred)\n",
        "  mape = tf.keras.metrics.mean_absolute_percentage_error(y_true, y_pred)\n",
        "  mase = mean_absolute_scaled_error(y_true, y_pred)\n",
        "  mse = tf.keras.metrics.mean_squared_error(y_true, y_pred)\n",
        "  rmse = tf.sqrt(mse)\n",
        "\n",
        "  return {\n",
        "      \"mae\": mae.numpy(),\n",
        "      \"mse\": mse.numpy(),\n",
        "      \"rmse\": rmse.numpy(),\n",
        "      \"mape\": mape.numpy(),\n",
        "      \"mase\": mase.numpy()\n",
        "  }"
      ]
    },
    {
      "cell_type": "code",
      "execution_count": 22,
      "metadata": {
        "colab": {
          "base_uri": "https://localhost:8080/"
        },
        "id": "CoBVFTf6A03V",
        "outputId": "5a4c0559-95f8-4f4e-be80-aeb6dac4c1ff"
      },
      "outputs": [
        {
          "output_type": "execute_result",
          "data": {
            "text/plain": [
              "{'mae': 567.9802,\n",
              " 'mse': 1147547.0,\n",
              " 'rmse': 1071.2362,\n",
              " 'mape': 2.516525,\n",
              " 'mase': 0.04742711}"
            ]
          },
          "metadata": {},
          "execution_count": 22
        }
      ],
      "source": [
        "naive_results = evaluate_preds(y_true = y_test[1:],\n",
        "                               y_pred = naive_forecast)\n",
        "naive_results"
      ]
    },
    {
      "cell_type": "code",
      "execution_count": 23,
      "metadata": {
        "colab": {
          "base_uri": "https://localhost:8080/"
        },
        "id": "gt52GnbdBH_f",
        "outputId": "72729463-f0c9-4a14-847b-90bbf95c9ff9"
      },
      "outputs": [
        {
          "output_type": "execute_result",
          "data": {
            "text/plain": [
              "20056.632963737222"
            ]
          },
          "metadata": {},
          "execution_count": 23
        }
      ],
      "source": [
        "# Find average price of Bitcoin in test dataset\n",
        "tf.reduce_mean(y_test).numpy()"
      ]
    },
    {
      "cell_type": "markdown",
      "metadata": {
        "id": "UknT7CjiDBXI"
      },
      "source": [
        "## Other models you can use for baseline and for actual forecasts\n",
        "\n",
        "In this notebook, we're focused on TensorFlow and deep learning models.\n",
        "\n",
        "However there are plenty of other styles of time series forecasting models you want to experiment with:\n",
        "\n",
        "| **Model/Library Name** | **Resource** |\n",
        "| ----- | ----- |\n",
        "| Moving average | https://machinelearningmastery.com/moving-average-smoothing-for-time-series-forecasting-python/ |\n",
        "| ARIMA (Autoregression Integrated Moving Average) | https://machinelearningmastery.com/arima-for-time-series-forecasting-with-python/ |\n",
        "| sktime (Scikit-Learn for time series) | https://github.com/alan-turing-institute/sktime |\n",
        "| TensorFlow Decision Forests (random forest, gradient boosting trees) | https://www.tensorflow.org/decision_forests |\n",
        "| Facebook Kats (purpose-built forecasting and time series analysis library by Facebook) | https://github.com/facebookresearch/Kats |\n",
        "| LinkedIn Greykite (flexible, intuitive and fast forecasts) | https://github.com/linkedin/greykite |"
      ]
    },
    {
      "cell_type": "markdown",
      "metadata": {
        "id": "AIGexxl1EcwZ"
      },
      "source": [
        "## Foremat Data Part 2: Windowing dataset\n",
        "Why do we window?\n",
        "\n",
        "We window our time series dataset to turn our data into a supervised learning problem.\n",
        "\n",
        "\n",
        "```\n",
        "Window for one week (univariate time series)\n",
        "\n",
        "[0, 1, 2, 3, 4, 5, 6] -> [7]\n",
        "[1, 2, 3, 4, 5, 6, 7] -> [8]\n",
        "[2, 3, 4, 5, 6, 7, 8] -> [9]\n",
        "```\n",
        "\n",
        "Or for the price of Bitcoin, it'd look like:\n",
        "\n",
        "```\n",
        "Window for one week with the target of predicting the next day (Bitcoin prices)\n",
        "\n",
        "[123.654, 125.455, 108.584, 118.674, 121.338, 120.655, 121.795] -> [123.033]\n",
        "[125.455, 108.584, 118.674, 121.338, 120.655, 121.795, 123.033] -> [124.049]\n",
        "[108.584, 118.674, 121.338, 120.655, 121.795, 123.033, 124.049] -> [125.961]\n",
        "```"
      ]
    },
    {
      "cell_type": "code",
      "execution_count": 24,
      "metadata": {
        "colab": {
          "base_uri": "https://localhost:8080/"
        },
        "id": "4stadh8ME5Eo",
        "outputId": "cccb70ff-bae5-4b8c-f289-6e965a6fdd7f"
      },
      "outputs": [
        {
          "output_type": "execute_result",
          "data": {
            "text/plain": [
              "2229"
            ]
          },
          "metadata": {},
          "execution_count": 24
        }
      ],
      "source": [
        "len(y_train)"
      ]
    },
    {
      "cell_type": "code",
      "execution_count": 25,
      "metadata": {
        "id": "eZ8qFa0bQeyR"
      },
      "outputs": [],
      "source": [
        "# Let's setup global variables for window and horizon size\n",
        "HORIZON = 1\n",
        "WINDOW_SIZE = 7"
      ]
    },
    {
      "cell_type": "code",
      "execution_count": 26,
      "metadata": {
        "id": "Y0WByS4WREgr"
      },
      "outputs": [],
      "source": [
        "# Create a function to label windowed data\n",
        "def get_labeled_window(x, horizon=HORIZON):\n",
        "  \"\"\"\n",
        "  Creates labels for windowed dataset.\n",
        "\n",
        "  E.g. if horizon=1\n",
        "  Input: [0,1,2,3,4,5,6,7]-> Output: ([1,2,3,4,5], [6])\n",
        "  \"\"\"\n",
        "  return x[:, :-horizon], x[:, -horizon:]"
      ]
    },
    {
      "cell_type": "code",
      "execution_count": 27,
      "metadata": {
        "colab": {
          "base_uri": "https://localhost:8080/"
        },
        "id": "zwg6-reTSCTp",
        "outputId": "b9dc19cf-a87d-482a-de06-552a355a5066"
      },
      "outputs": [
        {
          "output_type": "stream",
          "name": "stdout",
          "text": [
            "Window: [1 2 3 4 5 6 7] -> Label: 8\n"
          ]
        }
      ],
      "source": [
        "# Test out the window labelling function\n",
        "test_window, test_label = get_labeled_window(tf.expand_dims(tf.range(8)+1, axis=0))\n",
        "print(f\"Window: {tf.squeeze(test_window).numpy()} -> Label: {tf.squeeze(test_label).numpy()}\")"
      ]
    },
    {
      "cell_type": "markdown",
      "metadata": {
        "id": "5GFmEAJYShTR"
      },
      "source": [
        "We've got a way to label our windowed data.\n",
        "\n",
        "However, this only works on small scale\n",
        "\n",
        "we need a way to do the above across our entire time series.\n",
        "\n",
        "We could do this with python for loops,however, for large time series, that'd be quite slow.\n",
        "\n",
        "To speed things up, we'll leverage Numpy's array indexing.\n",
        "\n",
        "Our function will:\n",
        "\n",
        "1. Create a window step of specified window size (e.g. [0,1,2,3,4,5,6])\n",
        "2. Use NumPy indexing to create a 2D array of multiple window steps, for example:\n",
        "```\n",
        "[[0, 1, 2, 3, 4, 5, 6, 7],\n",
        " [1, 2, 3, 4, 5, 6, 7, 8],\n",
        " [2, 3, 4, 5, 6, 7, 8, 9]]\n",
        "```\n",
        "3. Uses the 2D array of multuple window steps to index on a target series\n",
        "4. Uses the `get_labelled_windows()` function we created above to turn the window steps into windows with a specified horizon\n",
        "\n",
        "> 📖 **Resource:** The function created below has been adapted from Syafiq Kamarul Azman's article [*Fast and Robust Sliding Window Vectorization with NumPy*](https://towardsdatascience.com/fast-and-robust-sliding-window-vectorization-with-numpy-3ad950ed62f5)."
      ]
    },
    {
      "cell_type": "code",
      "execution_count": 28,
      "metadata": {
        "id": "6_d1QmbJ-bnZ"
      },
      "outputs": [],
      "source": [
        "# Create a function to view NumPy arrays as windows\n",
        "def make_windows(x, window_size=WINDOW_SIZE, horizon=HORIZON):\n",
        "  \"\"\"\n",
        "  Turns a 1D array into a 2D array of sequential labelled windows of window_size with horizon size labels.\n",
        "  \"\"\"\n",
        "  # 1. Create a window of a specific window_size (add the horizon on the end for labelling later)\n",
        "  window_step = np.expand_dims(np.arange(window_size+horizon), axis=0)\n",
        "\n",
        "  # 2, Create a 2D array of multiple window steps (minus 1 to account for 0 indexing)\n",
        "  window_indexes = window_step + np.expand_dims(np.arange(len(x)-(window_size+horizon-1)), axis=0).T # Create 2D array windows of windows\n",
        "\n",
        "  #print(f\"Window indexes:\\n {window_indexes, window_indexes.shape}\")\n",
        "\n",
        "  # 3. Index on the target array (a time series) with 2D array of multiple window steps\n",
        "  windowed_array = x[window_indexes]\n",
        "\n",
        "  # 4. Get the labelled windows\n",
        "  windows, labels = get_labeled_window(windowed_array, horizon=HORIZON)\n",
        "  return windows, labels"
      ]
    },
    {
      "cell_type": "code",
      "execution_count": 29,
      "metadata": {
        "colab": {
          "base_uri": "https://localhost:8080/"
        },
        "id": "JLGJKYhQD1dv",
        "outputId": "7dc82d8c-e3e3-4b27-a5fc-38141d13872a"
      },
      "outputs": [
        {
          "output_type": "execute_result",
          "data": {
            "text/plain": [
              "(2780, 2780)"
            ]
          },
          "metadata": {},
          "execution_count": 29
        }
      ],
      "source": [
        "full_windows, full_labels = make_windows(prices, window_size=WINDOW_SIZE, horizon=HORIZON)\n",
        "len(full_windows), len(full_labels)"
      ]
    },
    {
      "cell_type": "code",
      "execution_count": 30,
      "metadata": {
        "colab": {
          "base_uri": "https://localhost:8080/"
        },
        "id": "q9fsgqy-EbaL",
        "outputId": "739b36d5-cc15-4718-8f18-8f75db7faa3d"
      },
      "outputs": [
        {
          "output_type": "stream",
          "name": "stdout",
          "text": [
            "Window: [123.65499 125.455   108.58483 118.67466 121.33866 120.65533 121.795  ] -> Label: [123.033]\n",
            "Window: [125.455   108.58483 118.67466 121.33866 120.65533 121.795   123.033  ] -> Label: [124.049]\n",
            "Window: [108.58483 118.67466 121.33866 120.65533 121.795   123.033   124.049  ] -> Label: [125.96116]\n"
          ]
        }
      ],
      "source": [
        "# View the first 3 windows/labels\n",
        "for i in range(3):\n",
        "  print(f\"Window: {full_windows[i]} -> Label: {full_labels[i]}\")"
      ]
    },
    {
      "cell_type": "code",
      "execution_count": 31,
      "metadata": {
        "colab": {
          "base_uri": "https://localhost:8080/"
        },
        "id": "Xii_SGsHCrnn",
        "outputId": "c09595da-8105-4d58-a4b7-5fe6c6b705e1"
      },
      "outputs": [
        {
          "output_type": "stream",
          "name": "stdout",
          "text": [
            "Window: [58788.20967893 58102.19142623 55715.54665129 56573.5554719\n",
            " 52147.82118698 49764.1320816  50032.69313676] -> Label: [47885.62525472]\n",
            "Window: [58102.19142623 55715.54665129 56573.5554719  52147.82118698\n",
            " 49764.1320816  50032.69313676 47885.62525472] -> Label: [45604.61575361]\n",
            "Window: [55715.54665129 56573.5554719  52147.82118698 49764.1320816\n",
            " 50032.69313676 47885.62525472 45604.61575361] -> Label: [43144.47129086]\n"
          ]
        }
      ],
      "source": [
        "# View the last 3 windows/labels\n",
        "for i in range(3):\n",
        "  print(f\"Window: {full_windows[i-3]} -> Label: {full_labels[i-3]}\")"
      ]
    },
    {
      "cell_type": "markdown",
      "metadata": {
        "id": "dKAQZ_UPFQ4J"
      },
      "source": [
        "## Turning windows into trianing and test sets"
      ]
    },
    {
      "cell_type": "code",
      "execution_count": 32,
      "metadata": {
        "id": "PrJRH-evGkG3"
      },
      "outputs": [],
      "source": [
        "# Make the train/test splits\n",
        "def make_train_test_splits(windows, labels, test_split=0.2):\n",
        "  \"\"\"\n",
        "  Splits matching pairs of windows and labels into train and test splits.\n",
        "  \"\"\"\n",
        "  split_size = int(len(windows) * (1-test_split)) # This will be default to 80% train 20% test\n",
        "  train_windows = windows[:split_size]\n",
        "  train_labels = labels[:split_size]\n",
        "  test_windows = windows[split_size:]\n",
        "  test_labels  = labels[split_size:]\n",
        "  return train_windows, test_windows, train_labels, test_labels"
      ]
    },
    {
      "cell_type": "code",
      "execution_count": 33,
      "metadata": {
        "colab": {
          "base_uri": "https://localhost:8080/"
        },
        "id": "Hlei_96ZIEeh",
        "outputId": "ee457935-9e17-4a0c-9ee4-8fd1855b4c0a"
      },
      "outputs": [
        {
          "output_type": "execute_result",
          "data": {
            "text/plain": [
              "(2224, 556, 2224, 556)"
            ]
          },
          "metadata": {},
          "execution_count": 33
        }
      ],
      "source": [
        "# Create train and test windows\n",
        "train_windows, test_windows, train_labels, test_labels = make_train_test_splits(full_windows, full_labels)\n",
        "len(train_windows), len(test_windows), len(train_labels), len(test_labels)"
      ]
    },
    {
      "cell_type": "code",
      "execution_count": 34,
      "metadata": {
        "colab": {
          "base_uri": "https://localhost:8080/"
        },
        "id": "0uzUP5fBI05X",
        "outputId": "a52039ed-169b-4455-e3fa-f8e382d6105d"
      },
      "outputs": [
        {
          "output_type": "execute_result",
          "data": {
            "text/plain": [
              "(array([[123.65499, 125.455  , 108.58483, 118.67466, 121.33866, 120.65533,\n",
              "         121.795  ],\n",
              "        [125.455  , 108.58483, 118.67466, 121.33866, 120.65533, 121.795  ,\n",
              "         123.033  ],\n",
              "        [108.58483, 118.67466, 121.33866, 120.65533, 121.795  , 123.033  ,\n",
              "         124.049  ],\n",
              "        [118.67466, 121.33866, 120.65533, 121.795  , 123.033  , 124.049  ,\n",
              "         125.96116],\n",
              "        [121.33866, 120.65533, 121.795  , 123.033  , 124.049  , 125.96116,\n",
              "         125.27966]]),\n",
              " array([[123.033  ],\n",
              "        [124.049  ],\n",
              "        [125.96116],\n",
              "        [125.27966],\n",
              "        [125.9275 ]]))"
            ]
          },
          "metadata": {},
          "execution_count": 34
        }
      ],
      "source": [
        "train_windows[:5], train_labels[:5]"
      ]
    },
    {
      "cell_type": "code",
      "execution_count": 35,
      "metadata": {
        "colab": {
          "base_uri": "https://localhost:8080/"
        },
        "id": "r20xLF0gJbK2",
        "outputId": "1cd855d0-dd07-4d56-8197-62ecf7dba5f4"
      },
      "outputs": [
        {
          "output_type": "execute_result",
          "data": {
            "text/plain": [
              "True"
            ]
          },
          "metadata": {},
          "execution_count": 35
        }
      ],
      "source": [
        "# Check to see if same (accounting for horizon and windows size)\n",
        "np.array_equal(np.squeeze(train_labels[:-HORIZON-1]), y_train[WINDOW_SIZE:])"
      ]
    },
    {
      "cell_type": "markdown",
      "metadata": {
        "id": "ppxfU1yrJuqg"
      },
      "source": [
        "## Make a modelling checkpoint\n",
        "\n",
        "Because our model's performance will fluctuate from experiment to experiment, we'll want to make sure we're comparing apples to apples.\n",
        "\n",
        "More specifically, we want to compare each of our model's best performances against the other model's best performances.\n",
        "\n",
        "For example, if `model_1` performed incredibly well on epoch 55 but its performance fell off toward epoch 100, we want the version of the model from epoch 55 to compare to other models rather than the version of the model from epoch 100.\n",
        "\n",
        "To take of this, we'll implement a [`ModelCheckpoint`](https://www.tensorflow.org/api_docs/python/tf/keras/callbacks/ModelCheckpoint) callback.\n"
      ]
    },
    {
      "cell_type": "code",
      "execution_count": 36,
      "metadata": {
        "id": "NTQSiV8pK6sQ"
      },
      "outputs": [],
      "source": [
        "import os\n",
        "\n",
        "# Create a function to implement a ModelCheckpoint callback with a specific filename\n",
        "def create_model_checkpoint(model_name, save_path=\"model_experiments\"):\n",
        "  return tf.keras.callbacks.ModelCheckpoint(filepath=os.path.join(save_path, model_name),\n",
        "                                            verbose=0, # only output a limited amount of text\n",
        "                                            save_best_only=True) # save only the best model to file\n"
      ]
    },
    {
      "cell_type": "markdown",
      "metadata": {
        "id": "goTZJXu7MC7E"
      },
      "source": [
        "## Model 1: Dense model (window = 7, horizon = 1)\n",
        "\n",
        "Our first deep model is going to be a simple dense mdoel:\n",
        "\n",
        "* A single dense layer with 128 hidden units and ReLU\n",
        "* An output layer with linear activation (no activation)\n",
        "* Adam optimization and MAE loss function\n",
        "* Batch size of 128\n",
        "* 100 epochs\n"
      ]
    },
    {
      "cell_type": "code",
      "execution_count": 37,
      "metadata": {
        "colab": {
          "base_uri": "https://localhost:8080/"
        },
        "id": "tBfjUIdLMXg_",
        "outputId": "588709d1-5745-4456-b9bc-68d3ab459824"
      },
      "outputs": [
        {
          "output_type": "stream",
          "name": "stdout",
          "text": [
            "Epoch 1/100\n",
            "18/18 [==============================] - 5s 81ms/step - loss: 1613.6234 - mae: 1613.6234 - mse: 8159390.5000 - val_loss: 1070.8542 - val_mae: 1070.8542 - val_mse: 3822370.5000\n",
            "Epoch 2/100\n",
            "18/18 [==============================] - 0s 9ms/step - loss: 349.3302 - mae: 349.3302 - mse: 479803.5938 - val_loss: 1661.6720 - val_mae: 1661.6720 - val_mse: 6760406.5000\n",
            "Epoch 3/100\n",
            "18/18 [==============================] - 1s 60ms/step - loss: 222.7240 - mae: 222.7240 - mse: 238981.2656 - val_loss: 1062.7344 - val_mae: 1062.7343 - val_mse: 3497562.2500\n",
            "Epoch 4/100\n",
            "18/18 [==============================] - 1s 56ms/step - loss: 175.2686 - mae: 175.2686 - mse: 157932.9062 - val_loss: 921.1367 - val_mae: 921.1367 - val_mse: 2733833.2500\n",
            "Epoch 5/100\n",
            "18/18 [==============================] - 2s 88ms/step - loss: 162.7787 - mae: 162.7787 - mse: 142909.6875 - val_loss: 893.8360 - val_mae: 893.8360 - val_mse: 2552160.2500\n",
            "Epoch 6/100\n",
            "18/18 [==============================] - 1s 55ms/step - loss: 154.9440 - mae: 154.9440 - mse: 128307.7422 - val_loss: 859.0226 - val_mae: 859.0226 - val_mse: 2434161.2500\n",
            "Epoch 7/100\n",
            "18/18 [==============================] - 1s 72ms/step - loss: 146.1478 - mae: 146.1478 - mse: 115481.5938 - val_loss: 802.8015 - val_mae: 802.8015 - val_mse: 2062173.0000\n",
            "Epoch 8/100\n",
            "18/18 [==============================] - 1s 67ms/step - loss: 137.1403 - mae: 137.1403 - mse: 103829.2031 - val_loss: 763.0203 - val_mae: 763.0203 - val_mse: 1917629.3750\n",
            "Epoch 9/100\n",
            "18/18 [==============================] - 2s 130ms/step - loss: 134.1228 - mae: 134.1228 - mse: 98908.8359 - val_loss: 719.8124 - val_mae: 719.8124 - val_mse: 1673197.6250\n",
            "Epoch 10/100\n",
            "18/18 [==============================] - 2s 93ms/step - loss: 127.5110 - mae: 127.5110 - mse: 92139.7891 - val_loss: 686.3124 - val_mae: 686.3124 - val_mse: 1566446.8750\n",
            "Epoch 11/100\n",
            "18/18 [==============================] - 1s 75ms/step - loss: 122.9855 - mae: 122.9855 - mse: 85043.8672 - val_loss: 684.0552 - val_mae: 684.0552 - val_mse: 1531167.5000\n",
            "Epoch 12/100\n",
            "18/18 [==============================] - 0s 9ms/step - loss: 123.8734 - mae: 123.8734 - mse: 85267.0469 - val_loss: 701.9726 - val_mae: 701.9726 - val_mse: 1556250.7500\n",
            "Epoch 13/100\n",
            "18/18 [==============================] - 0s 11ms/step - loss: 122.6569 - mae: 122.6569 - mse: 84376.1172 - val_loss: 684.9973 - val_mae: 684.9973 - val_mse: 1502347.6250\n",
            "Epoch 14/100\n",
            "18/18 [==============================] - 1s 49ms/step - loss: 118.3533 - mae: 118.3533 - mse: 80792.1406 - val_loss: 660.7561 - val_mae: 660.7561 - val_mse: 1433996.7500\n",
            "Epoch 15/100\n",
            "18/18 [==============================] - 1s 83ms/step - loss: 119.0481 - mae: 119.0481 - mse: 80591.4062 - val_loss: 632.9016 - val_mae: 632.9016 - val_mse: 1367851.5000\n",
            "Epoch 16/100\n",
            "18/18 [==============================] - 0s 9ms/step - loss: 115.7960 - mae: 115.7960 - mse: 77179.5000 - val_loss: 652.2221 - val_mae: 652.2221 - val_mse: 1396804.6250\n",
            "Epoch 17/100\n",
            "18/18 [==============================] - 0s 9ms/step - loss: 113.6784 - mae: 113.6784 - mse: 76037.3359 - val_loss: 633.6299 - val_mae: 633.6299 - val_mse: 1351376.3750\n",
            "Epoch 18/100\n",
            "18/18 [==============================] - 1s 54ms/step - loss: 113.9034 - mae: 113.9034 - mse: 75941.7812 - val_loss: 622.3138 - val_mae: 622.3138 - val_mse: 1343124.5000\n",
            "Epoch 19/100\n",
            "18/18 [==============================] - 0s 14ms/step - loss: 114.8430 - mae: 114.8430 - mse: 77053.1016 - val_loss: 662.3524 - val_mae: 662.3524 - val_mse: 1404288.3750\n",
            "Epoch 20/100\n",
            "18/18 [==============================] - 1s 58ms/step - loss: 112.4060 - mae: 112.4060 - mse: 73997.4297 - val_loss: 600.7339 - val_mae: 600.7339 - val_mse: 1276220.7500\n",
            "Epoch 21/100\n",
            "18/18 [==============================] - 0s 8ms/step - loss: 115.2932 - mae: 115.2932 - mse: 77439.4375 - val_loss: 609.6578 - val_mae: 609.6578 - val_mse: 1286553.1250\n",
            "Epoch 22/100\n",
            "18/18 [==============================] - 1s 57ms/step - loss: 111.6659 - mae: 111.6659 - mse: 74260.8125 - val_loss: 596.6580 - val_mae: 596.6580 - val_mse: 1257692.8750\n",
            "Epoch 23/100\n",
            "18/18 [==============================] - 1s 53ms/step - loss: 111.2109 - mae: 111.2109 - mse: 73621.5312 - val_loss: 593.8583 - val_mae: 593.8583 - val_mse: 1248683.7500\n",
            "Epoch 24/100\n",
            "18/18 [==============================] - 0s 5ms/step - loss: 111.1398 - mae: 111.1398 - mse: 73785.8906 - val_loss: 596.3951 - val_mae: 596.3951 - val_mse: 1260517.6250\n",
            "Epoch 25/100\n",
            "18/18 [==============================] - 0s 26ms/step - loss: 110.0016 - mae: 110.0016 - mse: 72143.5781 - val_loss: 587.3275 - val_mae: 587.3275 - val_mse: 1236605.8750\n",
            "Epoch 26/100\n",
            "18/18 [==============================] - 0s 5ms/step - loss: 110.7757 - mae: 110.7757 - mse: 71951.5938 - val_loss: 590.2637 - val_mae: 590.2637 - val_mse: 1242642.1250\n",
            "Epoch 27/100\n",
            "18/18 [==============================] - 0s 26ms/step - loss: 110.9251 - mae: 110.9251 - mse: 72413.1094 - val_loss: 582.2120 - val_mae: 582.2120 - val_mse: 1217312.5000\n",
            "Epoch 28/100\n",
            "18/18 [==============================] - 0s 5ms/step - loss: 108.6283 - mae: 108.6283 - mse: 71369.6250 - val_loss: 592.8203 - val_mae: 592.8203 - val_mse: 1242975.5000\n",
            "Epoch 29/100\n",
            "18/18 [==============================] - 0s 5ms/step - loss: 108.2820 - mae: 108.2820 - mse: 71634.8672 - val_loss: 586.7164 - val_mae: 586.7164 - val_mse: 1214834.3750\n",
            "Epoch 30/100\n",
            "18/18 [==============================] - 0s 27ms/step - loss: 110.9209 - mae: 110.9209 - mse: 72718.7734 - val_loss: 579.9092 - val_mae: 579.9092 - val_mse: 1202757.3750\n",
            "Epoch 31/100\n",
            "18/18 [==============================] - 0s 5ms/step - loss: 110.5114 - mae: 110.5114 - mse: 70347.2656 - val_loss: 634.0160 - val_mae: 634.0160 - val_mse: 1312118.6250\n",
            "Epoch 32/100\n",
            "18/18 [==============================] - 0s 26ms/step - loss: 109.8255 - mae: 109.8255 - mse: 73352.9688 - val_loss: 576.4108 - val_mae: 576.4108 - val_mse: 1194449.8750\n",
            "Epoch 33/100\n",
            "18/18 [==============================] - 0s 6ms/step - loss: 108.4071 - mae: 108.4071 - mse: 70979.9375 - val_loss: 586.7882 - val_mae: 586.7882 - val_mse: 1208834.2500\n",
            "Epoch 34/100\n",
            "18/18 [==============================] - 0s 8ms/step - loss: 108.2414 - mae: 108.2414 - mse: 71232.3672 - val_loss: 576.4602 - val_mae: 576.4602 - val_mse: 1200169.8750\n",
            "Epoch 35/100\n",
            "18/18 [==============================] - 0s 7ms/step - loss: 107.3348 - mae: 107.3348 - mse: 69709.8750 - val_loss: 579.4039 - val_mae: 579.4039 - val_mse: 1204103.7500\n",
            "Epoch 36/100\n",
            "18/18 [==============================] - 0s 8ms/step - loss: 112.2086 - mae: 112.2086 - mse: 71998.9531 - val_loss: 590.3966 - val_mae: 590.3966 - val_mse: 1213828.6250\n",
            "Epoch 37/100\n",
            "18/18 [==============================] - 1s 38ms/step - loss: 108.6298 - mae: 108.6298 - mse: 70950.7969 - val_loss: 570.0547 - val_mae: 570.0547 - val_mse: 1180383.0000\n",
            "Epoch 38/100\n",
            "18/18 [==============================] - 0s 8ms/step - loss: 110.6611 - mae: 110.6611 - mse: 70615.3203 - val_loss: 592.7681 - val_mae: 592.7681 - val_mse: 1227282.3750\n",
            "Epoch 39/100\n",
            "18/18 [==============================] - 0s 8ms/step - loss: 109.7674 - mae: 109.7674 - mse: 69702.6953 - val_loss: 575.7664 - val_mae: 575.7664 - val_mse: 1192312.3750\n",
            "Epoch 40/100\n",
            "18/18 [==============================] - 0s 8ms/step - loss: 107.0161 - mae: 107.0161 - mse: 69571.4297 - val_loss: 573.4840 - val_mae: 573.4840 - val_mse: 1186497.1250\n",
            "Epoch 41/100\n",
            "18/18 [==============================] - 0s 8ms/step - loss: 107.4933 - mae: 107.4933 - mse: 68845.8281 - val_loss: 597.5240 - val_mae: 597.5240 - val_mse: 1234923.1250\n",
            "Epoch 42/100\n",
            "18/18 [==============================] - 0s 10ms/step - loss: 109.6202 - mae: 109.6202 - mse: 71199.2969 - val_loss: 581.5984 - val_mae: 581.5984 - val_mse: 1191328.1250\n",
            "Epoch 43/100\n",
            "18/18 [==============================] - 0s 8ms/step - loss: 108.2090 - mae: 108.2090 - mse: 68022.2734 - val_loss: 619.8768 - val_mae: 619.8768 - val_mse: 1285800.6250\n",
            "Epoch 44/100\n",
            "18/18 [==============================] - 0s 8ms/step - loss: 108.0921 - mae: 108.0921 - mse: 68970.2812 - val_loss: 577.9514 - val_mae: 577.9514 - val_mse: 1183815.0000\n",
            "Epoch 45/100\n",
            "18/18 [==============================] - 0s 8ms/step - loss: 106.9688 - mae: 106.9688 - mse: 69465.7734 - val_loss: 586.5815 - val_mae: 586.5815 - val_mse: 1211352.6250\n",
            "Epoch 46/100\n",
            "18/18 [==============================] - 0s 8ms/step - loss: 107.5587 - mae: 107.5587 - mse: 68032.6875 - val_loss: 615.5673 - val_mae: 615.5673 - val_mse: 1256427.7500\n",
            "Epoch 47/100\n",
            "18/18 [==============================] - 0s 8ms/step - loss: 110.1828 - mae: 110.1828 - mse: 71442.6250 - val_loss: 595.1666 - val_mae: 595.1666 - val_mse: 1214188.0000\n",
            "Epoch 48/100\n",
            "18/18 [==============================] - 1s 33ms/step - loss: 106.9790 - mae: 106.9790 - mse: 69728.7891 - val_loss: 566.8541 - val_mae: 566.8541 - val_mse: 1164125.8750\n",
            "Epoch 49/100\n",
            "18/18 [==============================] - 0s 5ms/step - loss: 108.6175 - mae: 108.6175 - mse: 70356.3203 - val_loss: 581.3486 - val_mae: 581.3486 - val_mse: 1188253.3750\n",
            "Epoch 50/100\n",
            "18/18 [==============================] - 0s 5ms/step - loss: 111.2549 - mae: 111.2549 - mse: 70878.5547 - val_loss: 584.7627 - val_mae: 584.7627 - val_mse: 1204529.2500\n",
            "Epoch 51/100\n",
            "18/18 [==============================] - 0s 5ms/step - loss: 107.0280 - mae: 107.0280 - mse: 68931.1875 - val_loss: 574.0093 - val_mae: 574.0093 - val_mse: 1175240.7500\n",
            "Epoch 52/100\n",
            "18/18 [==============================] - 0s 5ms/step - loss: 109.5393 - mae: 109.5393 - mse: 71487.1562 - val_loss: 588.3257 - val_mae: 588.3257 - val_mse: 1211705.5000\n",
            "Epoch 53/100\n",
            "18/18 [==============================] - 0s 6ms/step - loss: 110.5263 - mae: 110.5263 - mse: 71214.4531 - val_loss: 596.4430 - val_mae: 596.4430 - val_mse: 1216886.7500\n",
            "Epoch 54/100\n",
            "18/18 [==============================] - 0s 5ms/step - loss: 111.6605 - mae: 111.6605 - mse: 70996.9531 - val_loss: 606.4802 - val_mae: 606.4802 - val_mse: 1235190.1250\n",
            "Epoch 55/100\n",
            "18/18 [==============================] - 0s 27ms/step - loss: 108.6537 - mae: 108.6537 - mse: 70904.2500 - val_loss: 564.9733 - val_mae: 564.9733 - val_mse: 1163906.1250\n",
            "Epoch 56/100\n",
            "18/18 [==============================] - 0s 5ms/step - loss: 106.0249 - mae: 106.0249 - mse: 68669.0469 - val_loss: 774.2717 - val_mae: 774.2717 - val_mse: 1744478.6250\n",
            "Epoch 57/100\n",
            "18/18 [==============================] - 0s 6ms/step - loss: 124.6977 - mae: 124.6977 - mse: 81507.0469 - val_loss: 696.0811 - val_mae: 696.0811 - val_mse: 1484405.3750\n",
            "Epoch 58/100\n",
            "18/18 [==============================] - 0s 6ms/step - loss: 117.3091 - mae: 117.3091 - mse: 73964.3281 - val_loss: 670.6249 - val_mae: 670.6249 - val_mse: 1414729.0000\n",
            "Epoch 59/100\n",
            "18/18 [==============================] - 0s 5ms/step - loss: 107.8444 - mae: 107.8444 - mse: 69168.6562 - val_loss: 603.4739 - val_mae: 603.4739 - val_mse: 1245752.1250\n",
            "Epoch 60/100\n",
            "18/18 [==============================] - 0s 5ms/step - loss: 113.6784 - mae: 113.6784 - mse: 75029.5625 - val_loss: 638.3981 - val_mae: 638.3981 - val_mse: 1303295.2500\n",
            "Epoch 61/100\n",
            "18/18 [==============================] - 0s 5ms/step - loss: 110.4425 - mae: 110.4425 - mse: 72231.2031 - val_loss: 595.2780 - val_mae: 595.2780 - val_mse: 1212545.3750\n",
            "Epoch 62/100\n",
            "18/18 [==============================] - 0s 5ms/step - loss: 107.9399 - mae: 107.9399 - mse: 68993.4062 - val_loss: 570.4846 - val_mae: 570.4846 - val_mse: 1173239.0000\n",
            "Epoch 63/100\n",
            "18/18 [==============================] - 0s 6ms/step - loss: 107.3320 - mae: 107.3320 - mse: 69363.5078 - val_loss: 601.3098 - val_mae: 601.3098 - val_mse: 1223099.1250\n",
            "Epoch 64/100\n",
            "18/18 [==============================] - 0s 6ms/step - loss: 108.2381 - mae: 108.2381 - mse: 69338.1094 - val_loss: 576.9307 - val_mae: 576.9307 - val_mse: 1176912.7500\n",
            "Epoch 65/100\n",
            "18/18 [==============================] - 0s 26ms/step - loss: 106.4593 - mae: 106.4593 - mse: 68792.9375 - val_loss: 560.9265 - val_mae: 560.9265 - val_mse: 1149579.8750\n",
            "Epoch 66/100\n",
            "18/18 [==============================] - 0s 6ms/step - loss: 105.4033 - mae: 105.4033 - mse: 67856.1484 - val_loss: 562.6195 - val_mae: 562.6195 - val_mse: 1155049.8750\n",
            "Epoch 67/100\n",
            "18/18 [==============================] - 0s 5ms/step - loss: 105.4054 - mae: 105.4054 - mse: 67945.7812 - val_loss: 615.6964 - val_mae: 615.6964 - val_mse: 1274257.2500\n",
            "Epoch 68/100\n",
            "18/18 [==============================] - 0s 5ms/step - loss: 114.0511 - mae: 114.0511 - mse: 69373.6641 - val_loss: 692.0999 - val_mae: 692.0999 - val_mse: 1463050.0000\n",
            "Epoch 69/100\n",
            "18/18 [==============================] - 0s 5ms/step - loss: 119.0887 - mae: 119.0887 - mse: 76428.5156 - val_loss: 580.8047 - val_mae: 580.8047 - val_mse: 1192189.2500\n",
            "Epoch 70/100\n",
            "18/18 [==============================] - 0s 5ms/step - loss: 124.5760 - mae: 124.5760 - mse: 79947.8828 - val_loss: 603.7461 - val_mae: 603.7461 - val_mse: 1241900.6250\n",
            "Epoch 71/100\n",
            "18/18 [==============================] - 0s 5ms/step - loss: 108.6442 - mae: 108.6442 - mse: 69256.7266 - val_loss: 577.3394 - val_mae: 577.3394 - val_mse: 1174910.8750\n",
            "Epoch 72/100\n",
            "18/18 [==============================] - 0s 6ms/step - loss: 106.7218 - mae: 106.7218 - mse: 68501.8281 - val_loss: 564.2138 - val_mae: 564.2138 - val_mse: 1155526.3750\n",
            "Epoch 73/100\n",
            "18/18 [==============================] - 0s 5ms/step - loss: 105.0500 - mae: 105.0500 - mse: 67384.7734 - val_loss: 562.8735 - val_mae: 562.8735 - val_mse: 1153222.2500\n",
            "Epoch 74/100\n",
            "18/18 [==============================] - 0s 5ms/step - loss: 107.3969 - mae: 107.3969 - mse: 69405.2812 - val_loss: 563.0190 - val_mae: 563.0190 - val_mse: 1154368.5000\n",
            "Epoch 75/100\n",
            "18/18 [==============================] - 0s 5ms/step - loss: 105.0755 - mae: 105.0755 - mse: 67941.6094 - val_loss: 569.7687 - val_mae: 569.7687 - val_mse: 1160531.6250\n",
            "Epoch 76/100\n",
            "18/18 [==============================] - 0s 5ms/step - loss: 106.3133 - mae: 106.3133 - mse: 68515.1250 - val_loss: 573.5606 - val_mae: 573.5606 - val_mse: 1164988.2500\n",
            "Epoch 77/100\n",
            "18/18 [==============================] - 0s 5ms/step - loss: 107.5178 - mae: 107.5178 - mse: 67985.8672 - val_loss: 582.0455 - val_mae: 582.0455 - val_mse: 1195358.6250\n",
            "Epoch 78/100\n",
            "18/18 [==============================] - 0s 6ms/step - loss: 105.5858 - mae: 105.5858 - mse: 66965.5000 - val_loss: 578.4349 - val_mae: 578.4349 - val_mse: 1187014.0000\n",
            "Epoch 79/100\n",
            "18/18 [==============================] - 0s 5ms/step - loss: 105.8079 - mae: 105.8079 - mse: 69318.1719 - val_loss: 575.4902 - val_mae: 575.4902 - val_mse: 1181565.2500\n",
            "Epoch 80/100\n",
            "18/18 [==============================] - 0s 5ms/step - loss: 105.7989 - mae: 105.7989 - mse: 68475.9219 - val_loss: 574.4350 - val_mae: 574.4350 - val_mse: 1166096.5000\n",
            "Epoch 81/100\n",
            "18/18 [==============================] - 0s 6ms/step - loss: 105.0204 - mae: 105.0204 - mse: 67410.4062 - val_loss: 568.3223 - val_mae: 568.3223 - val_mse: 1164570.1250\n",
            "Epoch 82/100\n",
            "18/18 [==============================] - 0s 6ms/step - loss: 113.1311 - mae: 113.1311 - mse: 73304.6484 - val_loss: 567.5505 - val_mae: 567.5505 - val_mse: 1161941.8750\n",
            "Epoch 83/100\n",
            "18/18 [==============================] - 0s 5ms/step - loss: 107.3353 - mae: 107.3353 - mse: 68299.3594 - val_loss: 623.6737 - val_mae: 623.6737 - val_mse: 1284909.8750\n",
            "Epoch 84/100\n",
            "18/18 [==============================] - 0s 6ms/step - loss: 109.1748 - mae: 109.1748 - mse: 70462.6016 - val_loss: 563.1896 - val_mae: 563.1896 - val_mse: 1150838.5000\n",
            "Epoch 85/100\n",
            "18/18 [==============================] - 0s 5ms/step - loss: 105.2401 - mae: 105.2401 - mse: 68185.6484 - val_loss: 561.9778 - val_mae: 561.9778 - val_mse: 1148419.3750\n",
            "Epoch 86/100\n",
            "18/18 [==============================] - 0s 5ms/step - loss: 104.6463 - mae: 104.6463 - mse: 66909.0312 - val_loss: 571.8204 - val_mae: 571.8204 - val_mse: 1160797.3750\n",
            "Epoch 87/100\n",
            "18/18 [==============================] - 0s 5ms/step - loss: 104.9534 - mae: 104.9534 - mse: 66711.7422 - val_loss: 575.6750 - val_mae: 575.6750 - val_mse: 1180320.1250\n",
            "Epoch 88/100\n",
            "18/18 [==============================] - 0s 5ms/step - loss: 105.5992 - mae: 105.5992 - mse: 68680.7188 - val_loss: 588.1783 - val_mae: 588.1783 - val_mse: 1209705.5000\n",
            "Epoch 89/100\n",
            "18/18 [==============================] - 0s 5ms/step - loss: 106.4502 - mae: 106.4502 - mse: 67193.8125 - val_loss: 567.5568 - val_mae: 567.5568 - val_mse: 1160923.2500\n",
            "Epoch 90/100\n",
            "18/18 [==============================] - 0s 5ms/step - loss: 104.8719 - mae: 104.8719 - mse: 66991.9297 - val_loss: 639.9769 - val_mae: 639.9769 - val_mse: 1295411.1250\n",
            "Epoch 91/100\n",
            "18/18 [==============================] - 0s 6ms/step - loss: 111.7809 - mae: 111.7809 - mse: 70624.6016 - val_loss: 625.9335 - val_mae: 625.9335 - val_mse: 1297171.5000\n",
            "Epoch 92/100\n",
            "18/18 [==============================] - 0s 6ms/step - loss: 106.3088 - mae: 106.3088 - mse: 68531.0703 - val_loss: 608.0742 - val_mae: 608.0742 - val_mse: 1254338.2500\n",
            "Epoch 93/100\n",
            "18/18 [==============================] - 0s 5ms/step - loss: 112.9452 - mae: 112.9452 - mse: 70328.9297 - val_loss: 609.7309 - val_mae: 609.7309 - val_mse: 1252369.3750\n",
            "Epoch 94/100\n",
            "18/18 [==============================] - 0s 5ms/step - loss: 109.4380 - mae: 109.4380 - mse: 70487.3672 - val_loss: 594.0702 - val_mae: 594.0702 - val_mse: 1201087.8750\n",
            "Epoch 95/100\n",
            "18/18 [==============================] - 0s 5ms/step - loss: 104.7523 - mae: 104.7523 - mse: 66199.7031 - val_loss: 562.2054 - val_mae: 562.2054 - val_mse: 1145673.5000\n",
            "Epoch 96/100\n",
            "18/18 [==============================] - 0s 5ms/step - loss: 107.1405 - mae: 107.1405 - mse: 67717.3125 - val_loss: 654.6949 - val_mae: 654.6949 - val_mse: 1363016.1250\n",
            "Epoch 97/100\n",
            "18/18 [==============================] - 0s 5ms/step - loss: 109.2518 - mae: 109.2518 - mse: 70477.8203 - val_loss: 571.2446 - val_mae: 571.2446 - val_mse: 1159392.8750\n",
            "Epoch 98/100\n",
            "18/18 [==============================] - 0s 5ms/step - loss: 104.7583 - mae: 104.7583 - mse: 67304.1719 - val_loss: 565.3275 - val_mae: 565.3275 - val_mse: 1153438.1250\n",
            "Epoch 99/100\n",
            "18/18 [==============================] - 0s 5ms/step - loss: 106.2825 - mae: 106.2825 - mse: 68283.8906 - val_loss: 562.4020 - val_mae: 562.4020 - val_mse: 1148152.3750\n",
            "Epoch 100/100\n",
            "18/18 [==============================] - 0s 5ms/step - loss: 117.2760 - mae: 117.2760 - mse: 71568.6797 - val_loss: 602.5214 - val_mae: 602.5214 - val_mse: 1217952.0000\n"
          ]
        },
        {
          "output_type": "execute_result",
          "data": {
            "text/plain": [
              "<keras.src.callbacks.History at 0x7bf4602c9930>"
            ]
          },
          "metadata": {},
          "execution_count": 37
        }
      ],
      "source": [
        "import tensorflow as tf\n",
        "from tensorflow.keras import layers\n",
        "\n",
        "# Set random seed for as reproducible results as possible\n",
        "tf.random.set_seed(42)\n",
        "\n",
        "# 1. Construct model\n",
        "model_1 = tf.keras.Sequential([\n",
        "    layers.Dense(128, activation=\"relu\"),\n",
        "    layers.Dense(HORIZON, activation=\"linear\")\n",
        "], name=\"model_1_dense\")\n",
        "\n",
        "# 2. Compile\n",
        "model_1.compile(loss=\"mae\",\n",
        "                optimizer=tf.keras.optimizers.Adam(),\n",
        "                metrics=[\"mae\", \"mse\"])\n",
        "\n",
        "# 3.Fit\n",
        "model_1.fit(x=train_windows,\n",
        "            y=train_labels,\n",
        "            epochs=100,\n",
        "            verbose=1,\n",
        "            batch_size=128,\n",
        "            validation_data=(test_windows, test_labels),\n",
        "            callbacks=[create_model_checkpoint(model_name=model_1.name)])"
      ]
    },
    {
      "cell_type": "code",
      "execution_count": 38,
      "metadata": {
        "colab": {
          "base_uri": "https://localhost:8080/"
        },
        "id": "J_ClSmCgO_qg",
        "outputId": "568f4505-bec4-44f5-a89d-757f733f53a2"
      },
      "outputs": [
        {
          "output_type": "stream",
          "name": "stdout",
          "text": [
            "18/18 [==============================] - 0s 4ms/step - loss: 602.5214 - mae: 602.5214 - mse: 1217952.0000\n"
          ]
        },
        {
          "output_type": "execute_result",
          "data": {
            "text/plain": [
              "[602.5214233398438, 602.5214233398438, 1217952.0]"
            ]
          },
          "metadata": {},
          "execution_count": 38
        }
      ],
      "source": [
        "# Evaluate model on test data\n",
        "model_1.evaluate(test_windows, test_labels)"
      ]
    },
    {
      "cell_type": "code",
      "execution_count": 39,
      "metadata": {
        "colab": {
          "base_uri": "https://localhost:8080/"
        },
        "id": "VzJeBIp-QBXo",
        "outputId": "3acbe8e8-20a9-4e28-a1f2-b5fd2c6b7b0e"
      },
      "outputs": [
        {
          "output_type": "stream",
          "name": "stdout",
          "text": [
            "18/18 [==============================] - 0s 3ms/step - loss: 560.9265 - mae: 560.9265 - mse: 1149579.8750\n"
          ]
        },
        {
          "output_type": "execute_result",
          "data": {
            "text/plain": [
              "[560.926513671875, 560.926513671875, 1149579.875]"
            ]
          },
          "metadata": {},
          "execution_count": 39
        }
      ],
      "source": [
        "# Load in saved best performing model_1 and evaluate it on test data\n",
        "model_1 = tf.keras.models.load_model(\"model_experiments/model_1_dense/\")\n",
        "model_1.evaluate(test_windows, test_labels)"
      ]
    },
    {
      "cell_type": "markdown",
      "metadata": {
        "id": "83fuGkLQQcJA"
      },
      "source": [
        "## Making forecast with a model (on the test dataset)\n",
        "\n",
        "To make \"forecasts\" on the test dataset (note: these wont be actual forecasts, they're only psuedo forecasts because actual forecasts are into the future), let's write a function to:\n",
        "\n",
        "1. Take in a trained model\n",
        "2. Takes in some input data(same kind of data the model was trained on)\n",
        "3. Passes the input data to the model's `predict()`method.\n",
        "4. Returns the predictions"
      ]
    },
    {
      "cell_type": "code",
      "execution_count": 40,
      "metadata": {
        "id": "CJ-Oh_a3RvF4"
      },
      "outputs": [],
      "source": [
        "def make_preds(model, input_data):\n",
        "  \"\"\"\n",
        "    Uses model to make predictions on input_data.\n",
        "\n",
        "  Parameters\n",
        "  ----------\n",
        "  model: trained model\n",
        "  input_data: windowed input data (same kind of data model was trained on)\n",
        "\n",
        "  Returns model predictions on input_data.\n",
        "  \"\"\"\n",
        "  forecast = model.predict(input_data)\n",
        "  return tf.squeeze(forecast) # return 1D array of predictions"
      ]
    },
    {
      "cell_type": "code",
      "execution_count": 41,
      "metadata": {
        "colab": {
          "base_uri": "https://localhost:8080/"
        },
        "id": "4B1K5VICSFVA",
        "outputId": "f30939c0-7bc9-4c98-a29f-bbb88dee9fbc"
      },
      "outputs": [
        {
          "output_type": "stream",
          "name": "stdout",
          "text": [
            "18/18 [==============================] - 0s 2ms/step\n"
          ]
        },
        {
          "output_type": "execute_result",
          "data": {
            "text/plain": [
              "(556,\n",
              " <tf.Tensor: shape=(10,), dtype=float32, numpy=\n",
              " array([8838.52  , 8771.3955, 9003.98  , 8761.533 , 8740.785 , 8705.475 ,\n",
              "        8664.766 , 8526.44  , 8433.242 , 8513.496 ], dtype=float32)>)"
            ]
          },
          "metadata": {},
          "execution_count": 41
        }
      ],
      "source": [
        "# Make predictions using model_1 on the test dataset and view the results\n",
        "model_1_preds = make_preds(model_1, test_windows)\n",
        "len(model_1_preds), model_1_preds[:10]"
      ]
    },
    {
      "cell_type": "code",
      "execution_count": 42,
      "metadata": {
        "colab": {
          "base_uri": "https://localhost:8080/"
        },
        "id": "v-V7xltlSgqg",
        "outputId": "d51a749a-7531-47cc-8c78-ae32e7dea69e"
      },
      "outputs": [
        {
          "output_type": "execute_result",
          "data": {
            "text/plain": [
              "{'mae': 560.9265,\n",
              " 'mse': 1149579.9,\n",
              " 'rmse': 1072.1846,\n",
              " 'mape': 2.5258152,\n",
              " 'mase': 0.046761166}"
            ]
          },
          "metadata": {},
          "execution_count": 42
        }
      ],
      "source": [
        "# Evalute the preds\n",
        "model_1_results = evaluate_preds(y_true=tf.squeeze(test_labels),\n",
        "                                 y_pred=model_1_preds)\n",
        "model_1_results"
      ]
    },
    {
      "cell_type": "code",
      "execution_count": 43,
      "metadata": {
        "colab": {
          "base_uri": "https://localhost:8080/",
          "height": 619
        },
        "id": "z9LgrCIISu84",
        "outputId": "c7131aaf-fb5a-4480-ef40-0c1bac5069ed"
      },
      "outputs": [
        {
          "output_type": "display_data",
          "data": {
            "text/plain": [
              "<Figure size 1000x700 with 1 Axes>"
            ],
            "image/png": "[encoded data removed]"
          },
          "metadata": {}
        }
      ],
      "source": [
        "# Let's plot our model 1 predictions\n",
        "offset = 300\n",
        "plt.figure(figsize=(10, 7))\n",
        "# Account for the test_window offset and index into test_labels to ensure correct plotting\n",
        "plot_time_series(timesteps=x_test[-len(test_windows):],\n",
        "                 values=test_labels[:, 0],\n",
        "                 start=offset,\n",
        "                 label=\"Test Data\")\n",
        "\n",
        "plot_time_series(timesteps=x_test[-len(test_windows):],\n",
        "                 values=model_1_preds,\n",
        "                 start=offset,\n",
        "                 format=\"-\",\n",
        "                 label=\"model_1_preds\")"
      ]
    },
    {
      "cell_type": "markdown",
      "metadata": {
        "id": "IAC8hzWCUEuY"
      },
      "source": [
        "## Model 2: Dense (window = 30, horizon = 1)"
      ]
    },
    {
      "cell_type": "code",
      "execution_count": 44,
      "metadata": {
        "id": "iiZd8PK8VBua"
      },
      "outputs": [],
      "source": [
        "HORIZON = 1\n",
        "WINDOW_SIZE = 30"
      ]
    },
    {
      "cell_type": "code",
      "execution_count": 45,
      "metadata": {
        "colab": {
          "base_uri": "https://localhost:8080/"
        },
        "id": "AF2pTYhBPvWK",
        "outputId": "a42a044d-ee3c-4ae3-b335-b9fc8ad05443"
      },
      "outputs": [
        {
          "output_type": "execute_result",
          "data": {
            "text/plain": [
              "(2757, 2757)"
            ]
          },
          "metadata": {},
          "execution_count": 45
        }
      ],
      "source": [
        "# Make window data with appropriate horizon and window sizes\n",
        "full_windows, full_labels = make_windows(prices, window_size = WINDOW_SIZE, horizon=HORIZON)\n",
        "len(full_windows), len(full_labels)"
      ]
    },
    {
      "cell_type": "code",
      "execution_count": 46,
      "metadata": {
        "colab": {
          "base_uri": "https://localhost:8080/"
        },
        "id": "nNLDkhdeQPm3",
        "outputId": "2ecc8a0d-7b9d-497e-ae69-4f810a41f82b"
      },
      "outputs": [
        {
          "output_type": "execute_result",
          "data": {
            "text/plain": [
              "(2205, 552, 2205, 552)"
            ]
          },
          "metadata": {},
          "execution_count": 46
        }
      ],
      "source": [
        "# Make train and test windows\n",
        "train_windows, test_windows, train_labels, test_labels = make_train_test_splits(windows=full_windows,\n",
        "                                                                                labels=full_labels,\n",
        "                                                                                test_split=0.2)\n",
        "\n",
        "len(train_windows), len(test_windows), len(train_labels), len(test_labels)"
      ]
    },
    {
      "cell_type": "code",
      "execution_count": 47,
      "metadata": {
        "colab": {
          "base_uri": "https://localhost:8080/"
        },
        "id": "yIa91jHIRBlA",
        "outputId": "bf4b0fe3-f9d8-4687-d7aa-4dc806279afd"
      },
      "outputs": [
        {
          "output_type": "execute_result",
          "data": {
            "text/plain": [
              "(array([[123.65499, 125.455  , 108.58483, 118.67466, 121.33866, 120.65533,\n",
              "         121.795  , 123.033  , 124.049  , 125.96116, 125.27966, 125.9275 ,\n",
              "         126.38333, 135.24199, 133.20333, 142.76333, 137.92333, 142.95166,\n",
              "         152.55183, 160.33883, 164.31499, 177.63333, 188.29716, 200.70166,\n",
              "         180.355  , 175.03166, 177.6965 , 187.15983, 192.75666, 197.4    ],\n",
              "        [125.455  , 108.58483, 118.67466, 121.33866, 120.65533, 121.795  ,\n",
              "         123.033  , 124.049  , 125.96116, 125.27966, 125.9275 , 126.38333,\n",
              "         135.24199, 133.20333, 142.76333, 137.92333, 142.95166, 152.55183,\n",
              "         160.33883, 164.31499, 177.63333, 188.29716, 200.70166, 180.355  ,\n",
              "         175.03166, 177.6965 , 187.15983, 192.75666, 197.4    , 196.02499],\n",
              "        [108.58483, 118.67466, 121.33866, 120.65533, 121.795  , 123.033  ,\n",
              "         124.049  , 125.96116, 125.27966, 125.9275 , 126.38333, 135.24199,\n",
              "         133.20333, 142.76333, 137.92333, 142.95166, 152.55183, 160.33883,\n",
              "         164.31499, 177.63333, 188.29716, 200.70166, 180.355  , 175.03166,\n",
              "         177.6965 , 187.15983, 192.75666, 197.4    , 196.02499, 198.04883]]),\n",
              " array([[196.02499],\n",
              "        [198.04883],\n",
              "        [198.93233]]))"
            ]
          },
          "metadata": {},
          "execution_count": 47
        }
      ],
      "source": [
        "train_windows[:3], train_labels[:3]"
      ]
    },
    {
      "cell_type": "code",
      "execution_count": null,
      "metadata": {
        "id": "LKNwafh5RG6f"
      },
      "outputs": [],
      "source": [
        "tf.random.set_seed(42)\n",
        "\n",
        "# Create a model\n",
        "model_2 = tf.keras.Sequential([\n",
        "    layers.Dense(128, activation=\"relu\"),\n",
        "    layers.Dense(HORIZON)\n",
        "], name=\"model_2_dense\")\n",
        "\n",
        "# Compile\n",
        "model_2.compile(loss=\"mae\",\n",
        "                optimizer=tf.keras.optimizers.Adam())\n",
        "\n",
        "# Fit model\n",
        "model_2.fit(train_windows,\n",
        "            train_labels,\n",
        "            epochs=100,\n",
        "            batch_size=128,\n",
        "            verbose=0,\n",
        "            validation_data=(test_windows, test_labels),\n",
        "            callbacks=[create_model_checkpoint(model_name=model_2.name)])"
      ]
    },
    {
      "cell_type": "code",
      "execution_count": null,
      "metadata": {
        "id": "HIzZK4TJSG8A"
      },
      "outputs": [],
      "source": [
        "# Evaluate model_2 on test data\n",
        "model_2.evaluate(test_windows, test_labels)"
      ]
    },
    {
      "cell_type": "code",
      "execution_count": null,
      "metadata": {
        "id": "1HlyZf90STbo"
      },
      "outputs": [],
      "source": [
        "# Load in the best performing model\n",
        "model_2 = tf.keras.models.load_model(\"model_experiments/model_2_dense/\")\n",
        "model_2.evaluate(test_windows, test_labels)"
      ]
    },
    {
      "cell_type": "code",
      "execution_count": null,
      "metadata": {
        "id": "eueJVTvgStl5"
      },
      "outputs": [],
      "source": [
        "# Get forecast perdictions\n",
        "model_2_preds = make_preds(model_2,\n",
        "                           input_data=test_windows)"
      ]
    },
    {
      "cell_type": "code",
      "execution_count": null,
      "metadata": {
        "id": "i_y8anWrS9AQ"
      },
      "outputs": [],
      "source": [
        "tf.squeeze(test_labels).shape, model_2_preds.shape"
      ]
    },
    {
      "cell_type": "code",
      "execution_count": null,
      "metadata": {
        "id": "aVLXaWwjTGlX"
      },
      "outputs": [],
      "source": [
        "#Evaluate results for model_2 predictions\n",
        "model_2_results = evaluate_preds(y_true=tf.squeeze(test_labels),\n",
        "                                 y_pred=model_2_preds)\n",
        "\n",
        "model_2_results"
      ]
    },
    {
      "cell_type": "code",
      "execution_count": null,
      "metadata": {
        "id": "DTue11PhTW-P"
      },
      "outputs": [],
      "source": [
        "offset = 300\n",
        "plt.figure(figsize=(10, 7))\n",
        "# Account for test window offset when plotting\n",
        "plot_time_series(timesteps=x_test[-len(test_windows):],\n",
        "                 values=test_labels[:, 0],\n",
        "                 start=offset,\n",
        "                 label=\"Test Data\")\n",
        "\n",
        "plot_time_series(timesteps=x_test[-len(test_windows):],\n",
        "                 values=model_2_preds,\n",
        "                 start=offset,\n",
        "                 format=\"-\",\n",
        "                 label=\"model_2_preds\")"
      ]
    },
    {
      "cell_type": "markdown",
      "metadata": {
        "id": "bhhKaggIUQwy"
      },
      "source": [
        "## Model 3: Dense (window = 30, horizon=7)"
      ]
    },
    {
      "cell_type": "code",
      "execution_count": null,
      "metadata": {
        "id": "JNd1p-hecqAv"
      },
      "outputs": [],
      "source": [
        "HORIZON = 7\n",
        "WINDOW_SIZE = 30\n",
        "\n",
        "full_windows, full_labels = make_windows(prices, window_size=WINDOW_SIZE, horizon=HORIZON)\n",
        "len(full_windows), len(full_labels)"
      ]
    },
    {
      "cell_type": "code",
      "execution_count": null,
      "metadata": {
        "id": "_qPKW35idDGY"
      },
      "outputs": [],
      "source": [
        "train_windows, test_windows, train_labels, test_labels = make_train_test_splits(windows=full_windows,\n",
        "                                                                                labels=full_labels)\n",
        "\n",
        "len(train_windows), len(test_windows), len(train_labels), len(test_labels)"
      ]
    },
    {
      "cell_type": "code",
      "execution_count": null,
      "metadata": {
        "id": "FMWsqzO7ddDf"
      },
      "outputs": [],
      "source": [
        "tf.random.set_seed(42)\n",
        "\n",
        "# Create model (same as model_1 except with different data input size)\n",
        "model_3 = tf.keras.Sequential([\n",
        "    layers.Dense(128, activation=\"relu\"),\n",
        "    layers.Dense(HORIZON)\n",
        "], name=\"model_3_dense\")\n",
        "\n",
        "model_3.compile(loss=\"mae\",\n",
        "                optimizer=tf.keras.optimizers.Adam())\n",
        "\n",
        "model_3.fit(train_windows,\n",
        "            train_labels,\n",
        "            batch_size=128,\n",
        "            epochs=100,\n",
        "            verbose=0,\n",
        "            validation_data=(test_windows, test_labels),\n",
        "            callbacks=[create_model_checkpoint(model_name=model_3.name)])"
      ]
    },
    {
      "cell_type": "code",
      "execution_count": null,
      "metadata": {
        "id": "mv4QeT0LeVO9"
      },
      "outputs": [],
      "source": [
        "model_3.evaluate(test_windows, test_labels)"
      ]
    },
    {
      "cell_type": "code",
      "execution_count": null,
      "metadata": {
        "id": "GxfZj-dNeeo3"
      },
      "outputs": [],
      "source": [
        "model_3 = tf.keras.models.load_model(\"model_experiments/model_3_dense/\")\n",
        "model_3.evaluate(test_windows, test_labels)"
      ]
    },
    {
      "cell_type": "code",
      "execution_count": null,
      "metadata": {
        "id": "quQTV6DAet8e"
      },
      "outputs": [],
      "source": [
        "model_3_preds = make_preds(model_3,\n",
        "                           input_data=test_windows)\n",
        "model_3_preds[:5]"
      ]
    },
    {
      "cell_type": "code",
      "execution_count": null,
      "metadata": {
        "id": "FbNGjISQe8xe"
      },
      "outputs": [],
      "source": [
        "# Calculate model_3 results - theses are going to be multi-dimensional because\n",
        "# We're trying to predict more than one step at a time\n",
        "model_3_results = evaluate_preds(y_true=tf.squeeze(test_labels),\n",
        "                                 y_pred=model_3_preds)\n",
        "\n",
        "model_3_results"
      ]
    },
    {
      "cell_type": "markdown",
      "metadata": {
        "id": "0YgscZjQfb5f"
      },
      "source": [
        "## Make our evaluation function work for larger horizon's"
      ]
    },
    {
      "cell_type": "code",
      "execution_count": null,
      "metadata": {
        "id": "JZyL3zv5UJKx"
      },
      "outputs": [],
      "source": [
        "# Create a function to take in model predictions and truth values and return evaluation metrics\n",
        "def evaluate_preds(y_true, y_pred):\n",
        "  # Make sure float32 (for metric calculations)\n",
        "  y_true = tf.cast(y_true, dtype=tf.float32)\n",
        "  y_pred = tf.cast(y_pred, dtype=tf.float32)\n",
        "\n",
        "  # Calculate various evaluation metrics\n",
        "  mae = tf.keras.metrics.mean_absolute_error(y_true, y_pred)\n",
        "  mape = tf.keras.metrics.mean_absolute_percentage_error(y_true, y_pred)\n",
        "  mase = mean_absolute_scaled_error(y_true, y_pred)\n",
        "  mse = tf.keras.metrics.mean_squared_error(y_true, y_pred)\n",
        "  rmse = tf.sqrt(mse)\n",
        "  # Account for different sized metrics (for longer horizons, we want to reduce metrics to a single value)\n",
        "  if mae.ndim > 0:\n",
        "    mae = tf.reduce_mean(mae)\n",
        "    mse = tf.reduce_mean(mse)\n",
        "    rmse = tf.reduce_mean(rmse)\n",
        "    mape = tf.reduce_mean(mape)\n",
        "    mase = tf.reduce_mean(mase)\n",
        "\n",
        "  return {\n",
        "      \"mae\": mae.numpy(),\n",
        "      \"mape\": mape.numpy(),\n",
        "      \"mase\": mase.numpy(),\n",
        "      \"mse\": mse.numpy(),\n",
        "      \"rmse\": rmse.numpy()\n",
        "  }"
      ]
    },
    {
      "cell_type": "code",
      "execution_count": null,
      "metadata": {
        "id": "cFtnkjW-Vr4J"
      },
      "outputs": [],
      "source": [
        "# Get model _3 results aggregated to single values\n",
        "model_3_results = evaluate_preds(y_true = tf.squeeze(test_labels),\n",
        "                                 y_pred = model_3_preds)\n",
        "model_3_results"
      ]
    },
    {
      "cell_type": "markdown",
      "metadata": {
        "id": "66Ra2cqRWDWT"
      },
      "source": [
        "We've made and evaluated predictions with `model_3`, let's visualize"
      ]
    },
    {
      "cell_type": "code",
      "execution_count": null,
      "metadata": {
        "id": "8_l0nuNjXjxB"
      },
      "outputs": [],
      "source": [
        "offset = 300\n",
        "plt.figure(figsize=(10, 7))\n",
        "plot_time_series(timesteps=x_test[-len(test_windows):], values=test_labels[:, 0], start=offset, format=\"-\", label=\"Test data\")\n",
        "plot_time_series(timesteps=x_test[-len(test_windows):], values=model_3_preds, start=offset, format=\"-\", label=\"model_3_preds\")"
      ]
    },
    {
      "cell_type": "code",
      "execution_count": null,
      "metadata": {
        "id": "yfl62kmMYS9b"
      },
      "outputs": [],
      "source": [
        "offset = 300\n",
        "plt.figure(figsize=(10, 7))\n",
        "plot_time_series(timesteps=x_test[-len(test_windows):], values=test_labels[:, 0], start=offset, label=\"Test data\")\n",
        "plot_time_series(timesteps=x_test[-len(test_windows):], values=tf.reduce_mean(model_3_preds, axis=1), start=offset, format=\"-\", label=\"model_3_preds\")"
      ]
    },
    {
      "cell_type": "markdown",
      "metadata": {
        "id": "3sllEvucZ2gI"
      },
      "source": [
        "## Which of our model is performing best so far?\n",
        "\n",
        "Let's compare them with the naive model to see whcih model is performing the best so far."
      ]
    },
    {
      "cell_type": "code",
      "execution_count": null,
      "metadata": {
        "id": "ZnLFS7Ftb_aB"
      },
      "outputs": [],
      "source": [
        "pd.DataFrame({\"naive\": naive_results[\"mae\"],\n",
        "              \"horizon_1_window_7\": model_1_results[\"mae\"],\n",
        "              \"horizon_1_window_30\": model_2_results[\"mae\"],\n",
        "              \"horizon_7_window_30\": model_3_results[\"mae\"]}, index=[\"mae\"]).plot(figsize=(10, 7), kind=\"bar\");"
      ]
    },
    {
      "cell_type": "markdown",
      "metadata": {
        "id": "wvNGRD2adTQa"
      },
      "source": [
        "## Model 4: Conv1D\n",
        "\n",
        "We'll be using a Conv1D model. Because as we saw in the sequence modelling notebook, Conv1D models can be used for seq2seq (sequence to sequence) problems.\n",
        "\n",
        "In our case, the input sequence is the pervious 7 days of Bitcoin price data and the output is the next day (in seq2seq terms this is called a many to one problem)"
      ]
    },
    {
      "cell_type": "code",
      "execution_count": null,
      "metadata": {
        "id": "zivEwLzEemDy"
      },
      "outputs": [],
      "source": [
        "HORIZON = 1 # predict next day\n",
        "WINDOW_SIZE = 7 # use perious week worth of data"
      ]
    },
    {
      "cell_type": "code",
      "execution_count": null,
      "metadata": {
        "id": "_2_l5khZff3K"
      },
      "outputs": [],
      "source": [
        "# Create windowed dataset\n",
        "full_windows, full_labels = make_windows(prices, window_size=WINDOW_SIZE, horizon=HORIZON)\n",
        "len(full_windows), len(full_labels)"
      ]
    },
    {
      "cell_type": "code",
      "execution_count": null,
      "metadata": {
        "id": "bkR9LulogHX5"
      },
      "outputs": [],
      "source": [
        "# Create train/test splits\n",
        "train_windows, test_windows, train_labels, test_labels = make_train_test_splits(full_windows, full_labels)\n",
        "len(train_windows), len(test_windows), len(train_labels), len(test_labels)"
      ]
    },
    {
      "cell_type": "markdown",
      "metadata": {
        "id": "eLmhTygegqqZ"
      },
      "source": [
        "Data windowed!\n",
        "\n",
        "Now, since we're going to be using [Conv1D layers](https://www.tensorflow.org/api_docs/python/tf/keras/layers/Conv1D), we need to make sure our input shapes are correct.\n",
        "\n",
        "The Conv1D layer in TensorFlow takes an input of: `(batch_size, timesteps, input_dim)`.\n",
        "\n",
        "In our case, the `batch_size` (by default this is 32 but we can change it) is handled for us but the other values will be:\n",
        "* `timesteps = WINDOW_SIZE` - the `timesteps` is also often referred to as `features`, our features are the previous `WINDOW_SIZE` values of Bitcoin\n",
        "* `input_dim = HORIZON` - our model views `WINDOW_SIZE` (one week) worth of data at a time to predict `HORIZON` (one day)\n",
        "\n",
        "Right now, our data has the `timesteps` dimension ready but we'll have to adjust it to have the `input_dim` dimension."
      ]
    },
    {
      "cell_type": "code",
      "execution_count": null,
      "metadata": {
        "id": "jhi_4UrVgzHZ"
      },
      "outputs": [],
      "source": [
        "# Check data simple shapes\n",
        "train_windows[0].shape # returns (WINDOW_SIZE, )"
      ]
    },
    {
      "cell_type": "markdown",
      "metadata": {
        "id": "8VrJSOBHhF56"
      },
      "source": [
        "To fix this, we could adjust the shape of all of our `train_windows` or we could use a [`tf.keras.layers.Lamdba`](https://keras.io/api/layers/core_layers/lambda/) (called a Lambda layer) to do this for us in our model.\n",
        "\n",
        "The Lambda layer wraps a function into a layer which can be used with a model"
      ]
    },
    {
      "cell_type": "code",
      "execution_count": null,
      "metadata": {
        "id": "d_zFpOsUhlPS"
      },
      "outputs": [],
      "source": [
        "# Before we pass our data to the Conv1D layer, we have to reshape it in order to make sure it works\n",
        "x = tf.constant(train_windows[0])\n",
        "expand_dims_layer = layers.Lambda(lambda x: tf.expand_dims(x, axis=1)) # add an extra dimension for timesteps\n",
        "print(f\"Original shape: {x.shape}\") # WINDOW_SIZE\n",
        "print(f\"Expanded shape: {expand_dims_layer(x).shape}\") # (WINDOW_SIZE, input_dim)\n",
        "print(f\"Original values with expanded shape:\\n {expand_dims_layer(x)}\")"
      ]
    },
    {
      "cell_type": "code",
      "execution_count": null,
      "metadata": {
        "id": "jHNQJCAJiu_R"
      },
      "outputs": [],
      "source": [
        "tf.random.set_seed(42)\n",
        "\n",
        "# Create model\n",
        "model_4 = tf.keras.Sequential([\n",
        "    # Create Lmabda layer to reshape inputs, without this layer, the model will error\n",
        "    layers.Lambda(lambda x: tf.expand_dims(x, axis=1)),\n",
        "    layers.Conv1D(filters=128, kernel_size=5, padding=\"causal\", activation=\"relu\"),\n",
        "    layers.Dense(HORIZON)\n",
        "], name=\"model_4_conv1D\")\n",
        "\n",
        "# Compile model\n",
        "model_4.compile(loss=\"mae\",\n",
        "                optimizer=tf.keras.optimizers.Adam())\n",
        "\n",
        "# Fit model\n",
        "model_4.fit(train_windows,\n",
        "            train_labels,\n",
        "            batch_size=128,\n",
        "            epochs=100,\n",
        "            verbose=0,\n",
        "            validation_data=(test_windows, test_labels),\n",
        "            callbacks=[create_model_checkpoint(model_name=model_4.name)])"
      ]
    },
    {
      "cell_type": "code",
      "execution_count": null,
      "metadata": {
        "id": "kFAzv7RHkdL6"
      },
      "outputs": [],
      "source": [
        "model_4.summary()"
      ]
    },
    {
      "cell_type": "code",
      "execution_count": null,
      "metadata": {
        "id": "X7fFE0akk5SK"
      },
      "outputs": [],
      "source": [
        "# Load in best performing Conv1D model and evaluate it on the test data\n",
        "model_4 = tf.keras.models.load_model(\"model_experiments/model_4_conv1D\")\n",
        "model_4.evaluate(test_windows, test_labels)"
      ]
    },
    {
      "cell_type": "code",
      "execution_count": null,
      "metadata": {
        "id": "PiM2QQPnlbP5"
      },
      "outputs": [],
      "source": [
        "# Make predictions\n",
        "model_4_preds = make_preds(model_4, test_windows)\n",
        "model_4_preds[:10]"
      ]
    },
    {
      "cell_type": "code",
      "execution_count": null,
      "metadata": {
        "id": "lcAB-jb3lzrh"
      },
      "outputs": [],
      "source": [
        "# Evaluate predictions\n",
        "model_4_results = evaluate_preds(y_true=tf.squeeze(test_labels),\n",
        "                                 y_pred=model_4_preds)\n",
        "model_4_results"
      ]
    },
    {
      "cell_type": "markdown",
      "metadata": {
        "id": "cN_X5vAXmT1y"
      },
      "source": [
        "## Model 5: RNN (LSTM)\n",
        "\n",
        "> 📖 **Resource:** For more on the different types of recurrent neural networks you can use for sequence problems, see the [Recurrent Neural Networks section of notebook 08](https://dev.mrdbourke.com/tensorflow-deep-learning/08_introduction_to_nlp_in_tensorflow/#recurrent-neural-networks-rnns).\n",
        "\n",
        "Let's reuse the same data we used for the Conv1D model, except this time we'll create an [LSTM-cell](https://www.tensorflow.org/api_docs/python/tf/keras/layers/LSTM) powered RNN to model our Bitcoin data.\n",
        "\n",
        "Once again, one of the most important steps for the LSTM model will be getting our data into the right shape.\n",
        "\n",
        "The [`tf.keras.layers.LSTM()`](https://www.tensorflow.org/api_docs/python/tf/keras/layers/LSTM) layer takes a tensor with `[batch, timesteps, feature]` dimensions.\n",
        "\n",
        "As mentioned earlier, the `batch` dimension gets taken care of for us but our data is currently only has the `feature` dimension (`WINDOW_SIZE`).\n",
        "\n",
        "To fix this, just like we did with the `Conv1D` model, we can use a `tf.keras.layers.Lambda()` layer to adjust the shape of our input tensors to the LSTM layer."
      ]
    },
    {
      "cell_type": "code",
      "execution_count": null,
      "metadata": {
        "id": "hLgZxBpgmhbh"
      },
      "outputs": [],
      "source": [
        "tf.random.set_seed(42)\n",
        "\n",
        "# Let's build an LSTM model with the Functional API\n",
        "inputs = layers.Input(shape=(WINDOW_SIZE))\n",
        "x = layers.Lambda(lambda x: tf.expand_dims(x, axis=1))(inputs)\n",
        "# print(x.shape)\n",
        "# x = layers.LSTM(128, activation=\"relu\", return_sequence=True)(x) # this layer will error if the inputs are not the right shape\n",
        "x = layers.LSTM(128, activation=\"relu\")(x)\n",
        "# print(x.shape)\n",
        "# Add another optional dense layer\n",
        "# x = layers.Dense(32, activation=\"relu\")(x)\n",
        "output = layers.Dense(HORIZON)(x)\n",
        "model_5 = tf.keras.Model(inputs=inputs, outputs=output, name=\"model_5_lstm\")\n",
        "\n",
        "\n",
        "# Compile model\n",
        "model_5.compile(loss=\"mae\",\n",
        "                optimizer=tf.keras.optimizers.Adam())\n",
        "\n",
        "# Model fit\n",
        "model_5.fit(train_windows,\n",
        "            train_labels,\n",
        "            epochs=100,\n",
        "            verbose=0,\n",
        "            batch_size=128,\n",
        "            validation_data=(test_windows, test_labels),\n",
        "            callbacks=[create_model_checkpoint(model_name=model_5.name)])"
      ]
    },
    {
      "cell_type": "code",
      "execution_count": null,
      "metadata": {
        "id": "MKvRxhgGpfzy"
      },
      "outputs": [],
      "source": [
        "# Load in best version of model 5 and evaluate on the test data\n",
        "model_5 = tf.keras.models.load_model(\"model_experiments/model_5_lstm/\")\n",
        "model_5.evaluate(test_windows, test_labels)"
      ]
    },
    {
      "cell_type": "code",
      "execution_count": null,
      "metadata": {
        "id": "VBP0r_NRqNwi"
      },
      "outputs": [],
      "source": [
        "# Make predictions with our LSTM model\n",
        "model_5_preds = make_preds(model_5, test_windows)\n",
        "model_5_preds[:10]"
      ]
    },
    {
      "cell_type": "code",
      "execution_count": null,
      "metadata": {
        "id": "55jzuv-jqjdC"
      },
      "outputs": [],
      "source": [
        "# Evaluate model 5 preds\n",
        "model_5_results = evaluate_preds(y_true=tf.squeeze(test_labels),\n",
        "                                 y_pred=model_5_preds)\n",
        "model_5_results"
      ]
    },
    {
      "cell_type": "markdown",
      "metadata": {
        "id": "foLVq5AzrF1S"
      },
      "source": [
        "## Make a multivariate time series\n",
        "\n",
        "So far all of our models have barely kept up with the naïve forecast.\n",
        "\n",
        "And so far all of them have been trained on a single variable (also called univariate time series): the historical price of Bitcoin.\n",
        "\n",
        "If predicting the price of Bitcoin using the price of Bitcoin hasn't worked out very well, maybe giving our model more information may help.\n",
        "\n",
        "More information is a vague term because we could actually feed almost anything to our model(s) and they would still try to find patterns.\n",
        "\n",
        "For example, we could use the historical price of Bitcoin as well as anyone with the name [Daniel Bourke Tweeted](https://twitter.com/mrdbourke) on that day to predict the future price of Bitcoin.\n",
        "\n",
        "But would this help?\n",
        "\n",
        "Porbably not.\n",
        "\n",
        "What would be better is if we passed our model something related to Bitcoin (again, this is quite vauge, since in an open system like a market, you could argue everything is related).\n",
        "\n",
        "This will be different for almost every time series you work on but in our case, we could try to see if the [Bitcoin block reward size](https://www.investopedia.com/terms/b/block-reward.asp) adds any predictive power to our model(s).\n",
        "\n",
        "What is the Bitcoin block reward size?\n",
        "\n",
        "The Bitcoin block reward size is the number of Bitcoin someone receives from mining a Bitcoin block.\n",
        "\n",
        "At its inception, the Bitcoin block reward size was 50.\n",
        "\n",
        "But every four years or so, the Bitcoin block reward halves.\n",
        "\n",
        "For example, the block reward size went from 50 (starting January 2009) to 25 on November 28 2012.\n",
        "\n",
        "Let's encode this information into our time series data and see if it helps a model's performance.\n",
        "\n",
        "> 🔑 **Note:** Adding an extra feature to our dataset such as the Bitcoin block reward size will take our data from **univariate** (only the historical price of Bitcoin) to **multivariate** (the price of Bitcoin as well as the block reward size)."
      ]
    },
    {
      "cell_type": "code",
      "execution_count": null,
      "metadata": {
        "id": "XAyB7raFrtry"
      },
      "outputs": [],
      "source": [
        "# Let's make a multivariate time series\n",
        "bitcoin_prices.head()"
      ]
    },
    {
      "cell_type": "code",
      "execution_count": null,
      "metadata": {
        "id": "4fMlFUrqsBFy"
      },
      "outputs": [],
      "source": [
        "# Block reward values\n",
        "block_reward_1 = 50\n",
        "block_reward_2 = 25\n",
        "block_reward_3 = 12.5\n",
        "block_reward_4 = 6.25\n",
        "\n",
        "# Block reward dates (datetime form of the above date stamps)\n",
        "block_reward_2_datetime = np.datetime64(\"2012-11-28\")\n",
        "block_reward_3_datetime = np.datetime64(\"2016-07-09\")\n",
        "block_reward_4_datetime = np.datetime64(\"2020-05-11\")"
      ]
    },
    {
      "cell_type": "code",
      "execution_count": null,
      "metadata": {
        "id": "v210Hxn9tB0q"
      },
      "outputs": [],
      "source": [
        "block_reward_2_days = (block_reward_3_datetime - bitcoin_prices.index[0]).days\n",
        "block_reward_3_days = (block_reward_4_datetime - bitcoin_prices.index[0]).days\n",
        "block_reward_2_days, block_reward_3_days"
      ]
    },
    {
      "cell_type": "code",
      "execution_count": null,
      "metadata": {
        "id": "nG3E_Jejtszh"
      },
      "outputs": [],
      "source": [
        "# Add block_reward column\n",
        "bitcoin_prices_block = bitcoin_prices.copy()\n",
        "bitcoin_prices_block[\"block_reward\"] = None\n",
        "\n",
        "# Set values of block_reward column (it's the last column hence -1 indexing on iloc)\n",
        "bitcoin_prices_block.iloc[:block_reward_2_days, -1] = block_reward_2\n",
        "bitcoin_prices_block.iloc[block_reward_2_days:block_reward_3_days, -1] = block_reward_3\n",
        "bitcoin_prices_block.iloc[block_reward_3_days:, -1] = block_reward_4\n",
        "bitcoin_prices_block.head()"
      ]
    },
    {
      "cell_type": "code",
      "execution_count": null,
      "metadata": {
        "id": "FrKwbPGgwPST"
      },
      "outputs": [],
      "source": [
        "# Plot the block reward/price over time\n",
        "# Note: Because of the different scales of our values we'll scale them to be between 0 and 1.\n",
        "from sklearn.preprocessing import minmax_scale\n",
        "scaled_price_block_df = pd.DataFrame(minmax_scale(bitcoin_prices_block[[\"Price\", \"block_reward\"]]),\n",
        "                                     columns=bitcoin_prices_block.columns,\n",
        "                                     index=bitcoin_prices_block.index)\n",
        "scaled_price_block_df.plot(figsize=(10, 7));"
      ]
    },
    {
      "cell_type": "markdown",
      "metadata": {
        "id": "utwG-VRuzF7b"
      },
      "source": [
        "## Making a windowed dataset with pandas\n",
        "\n",
        "However, since we've just added another variable to our dataset, these functions won't work.\n",
        "\n",
        "Not to worry though. Since our data is in a pandas DataFrame, we can leverage the [`pandas.DataFrame.shift()`](https://pandas.pydata.org/pandas-docs/stable/reference/api/pandas.DataFrame.shift.html) method to create a windowed **multivariate** time series.\n",
        "\n",
        "The `shift()` method offsets an index by a specified number of periods."
      ]
    },
    {
      "cell_type": "code",
      "execution_count": null,
      "metadata": {
        "id": "ux9tKKzAzYPh"
      },
      "outputs": [],
      "source": [
        "# Setup dataset hyperparameters\n",
        "HORIZON = 1\n",
        "WINDOW_SIZE = 7"
      ]
    },
    {
      "cell_type": "code",
      "execution_count": null,
      "metadata": {
        "id": "CxFzKNyZzhjb"
      },
      "outputs": [],
      "source": [
        "# Make a copy of the Bitcoin historical data with block reward feature\n",
        "bitcoin_prices_windowed = bitcoin_prices_block.copy()\n",
        "\n",
        "# Add windowed columns\n",
        "for i in range(WINDOW_SIZE):\n",
        "  bitcoin_prices_windowed[f\"Price+{i+1}\"] = bitcoin_prices_windowed[\"Price\"].shift(periods=i+1)\n",
        "bitcoin_prices_windowed.head(10)"
      ]
    },
    {
      "cell_type": "code",
      "execution_count": null,
      "metadata": {
        "id": "YTXh6YQG0OkB"
      },
      "outputs": [],
      "source": [
        "# Let's create X & Y, remove the NaN's and convert to float32 to prevent TensorFlow errors\n",
        "X = bitcoin_prices_windowed.dropna().drop(\"Price\", axis=1).astype(np.float32)\n",
        "Y = bitcoin_prices_windowed.dropna()[\"Price\"].astype(np.float32)\n",
        "X.head()"
      ]
    },
    {
      "cell_type": "code",
      "execution_count": null,
      "metadata": {
        "id": "UZRopFXV1JTb"
      },
      "outputs": [],
      "source": [
        "# Make train and test sets\n",
        "split_size = int(len(X) * 0.8)\n",
        "x_train, y_train = X[:split_size], Y[:split_size]\n",
        "x_test, y_test = X[split_size:], Y[split_size:]\n",
        "len(x_train), len(y_train), len(x_test), len(y_test)"
      ]
    },
    {
      "cell_type": "markdown",
      "metadata": {
        "id": "obiSmf9U17J7"
      },
      "source": [
        "## Model 6: Dense (multivariate time series)"
      ]
    },
    {
      "cell_type": "code",
      "execution_count": null,
      "metadata": {
        "id": "Vp6MGpdn9VJ4"
      },
      "outputs": [],
      "source": [
        "tf.random.set_seed(42)\n",
        "\n",
        "# Make multivariate time series model\n",
        "model_6 = tf.keras.Sequential([\n",
        "    layers.Dense(128, activation=\"relu\"),\n",
        "    #layers.Dense(128, activation=\"relu\"),\n",
        "    layers.Dense(HORIZON)\n",
        "], name=\"model_6_dense_multivariate\")\n",
        "\n",
        "# Compile\n",
        "model_6.compile(loss=\"mae\",\n",
        "                optimizer=tf.keras.optimizers.Adam())\n",
        "\n",
        "# Fit\n",
        "model_6.fit(x_train, y_train,\n",
        "            epochs=100,\n",
        "            batch_size=128,\n",
        "            verbose=1,\n",
        "            validation_data=(x_test, y_test),\n",
        "            callbacks=[create_model_checkpoint(model_name=model_6.name)])"
      ]
    },
    {
      "cell_type": "code",
      "execution_count": null,
      "metadata": {
        "id": "5GaN_MpL-lzH"
      },
      "outputs": [],
      "source": [
        "# Evaluate multivariate model\n",
        "model_6.evaluate(x_test, y_test)"
      ]
    },
    {
      "cell_type": "code",
      "execution_count": null,
      "metadata": {
        "id": "uOKYQoj9-xfA"
      },
      "outputs": [],
      "source": [
        "# Load in and evaluate best performing model\n",
        "model_6 = tf.keras.models.load_model(\"model_experiments/model_6_dense_multivariate\")\n",
        "model_6.evaluate(x_test, y_test)"
      ]
    },
    {
      "cell_type": "code",
      "execution_count": null,
      "metadata": {
        "id": "dD5Qb8QK_SlQ"
      },
      "outputs": [],
      "source": [
        "# Make predictions with multivariate model\n",
        "model_6_preds = tf.squeeze(model_6.predict(x_test))\n",
        "model_6_preds[:10]"
      ]
    },
    {
      "cell_type": "code",
      "execution_count": null,
      "metadata": {
        "id": "N2O1ujTm_jw_"
      },
      "outputs": [],
      "source": [
        "# Evaluate predictions to get eval metrics\n",
        "model_6_results = evaluate_preds(y_true=y_test,\n",
        "                                 y_pred=model_6_preds)\n",
        "model_6_results"
      ]
    },
    {
      "cell_type": "code",
      "execution_count": null,
      "metadata": {
        "id": "-1GeMkKr_xhn"
      },
      "outputs": [],
      "source": [
        "model_1_results"
      ]
    },
    {
      "cell_type": "code",
      "execution_count": null,
      "metadata": {
        "id": "b_ufwQys_5yG"
      },
      "outputs": [],
      "source": [
        "naive_results"
      ]
    },
    {
      "cell_type": "markdown",
      "metadata": {
        "id": "MNNCBs28AISO"
      },
      "source": [
        "## Model 7: N-BEATS algorithm\n",
        "\n",
        "Let's now try build the biggest time series forecasting model we've built so far\n",
        "\n",
        "More specifically, we're going to be replicating the algorithm in Figure 1 from teh following paper: https://arxiv.org/pdf/1905.10437.pdf\n",
        "\n",
        "Why?\n",
        "\n",
        "* This will allow us to practice replicating a paper with TenseFlow code.\n",
        "* We will see how to use TensorFlow layer subclassing (to make our own custom layers)\n",
        "* Get experience using the Functional API to create a custom architecture.\n",
        "* Potentially get state of art results on our problem."
      ]
    },
    {
      "cell_type": "markdown",
      "metadata": {
        "id": "Q6uOGQT2DALI"
      },
      "source": [
        "### Building and test the N-BEATS block layer\n",
        "\n",
        "Because the N-BEATS block layer doesn't exist in TensorFlow, we've got to create it.\n",
        "\n",
        "To create custom layers and mdoels in TensorFlow we can use subclassing\n",
        "\n"
      ]
    },
    {
      "cell_type": "code",
      "execution_count": null,
      "metadata": {
        "id": "q9Ke8aAWEXzB"
      },
      "outputs": [],
      "source": [
        "# Create NBEATSBlock custom layer\n",
        "class NBeatsBlock(tf.keras.layers.Layer):\n",
        "  def __init__(self,\n",
        "               input_size: int,\n",
        "               theta_size: int,\n",
        "               horizon: int,\n",
        "               n_neurons: int,\n",
        "               n_layers: int,\n",
        "               **kwargs): # the **kwargs argument takes care of all the arguments for the parent class (input_shape, trainable)\n",
        "    super().__init__(**kwargs)\n",
        "    self.input_size = input_size\n",
        "    self.theta_size = theta_size\n",
        "    self.horizon = horizon\n",
        "    self.n_neruons = n_neurons\n",
        "    self.n_layers = n_layers\n",
        "\n",
        "    # Block contains stacks of 4 fully connect layers each has ReLU activation\n",
        "    self.hidden = [tf.keras.layers.Dense(n_neurons, activation=\"relu\") for _ in range(n_layers)]\n",
        "    # Output of block is a theta alyer with linear activation\n",
        "    self.theta_layer = tf.keras.layers.Dense(theta_size, activation=\"linear\", name=\"theta\")\n",
        "\n",
        "  def call(self, inputs):\n",
        "    x = inputs\n",
        "    for layers in self.hidden:\n",
        "      x = layers(x)\n",
        "    theta = self.theta_layer(x)\n",
        "    # Output the backcast and forecast from theta\n",
        "    backcast, forecast = theta[:, :self.input_size], theta[:, -self.horizon:]\n",
        "    return backcast, forecast"
      ]
    },
    {
      "cell_type": "markdown",
      "metadata": {
        "id": "nbyX65O2JjAA"
      },
      "source": [
        "Let's test out NBeatsBlock class.\n",
        "\n",
        "To do we'll make some dummy inputs and outputs"
      ]
    },
    {
      "cell_type": "code",
      "execution_count": null,
      "metadata": {
        "id": "iMMvqbFhMK93"
      },
      "outputs": [],
      "source": [
        "# Set up dummy NBeatsBlock layer to represent inputs and outputs\n",
        "tf.random.set_seed(42)\n",
        "dummy_nbeats_block_layer = NBeatsBlock(input_size=WINDOW_SIZE,\n",
        "                                       theta_size=WINDOW_SIZE+HORIZON,\n",
        "                                       horizon=HORIZON,\n",
        "                                       n_neurons=128,\n",
        "                                       n_layers=4)"
      ]
    },
    {
      "cell_type": "code",
      "execution_count": null,
      "metadata": {
        "id": "mvdMGnwqM1Zw"
      },
      "outputs": [],
      "source": [
        "# Create dummy inputs (have to be same size as input_size)\n",
        "dummy_inputs = tf.expand_dims(tf.range(WINDOW_SIZE) + 1, axis=0) # input shape to the model has to reflect dense layer input requirements (ndims=2)"
      ]
    },
    {
      "cell_type": "code",
      "execution_count": null,
      "metadata": {
        "id": "A6xkBNNCNpEB"
      },
      "outputs": [],
      "source": [
        "dummy_inputs"
      ]
    },
    {
      "cell_type": "code",
      "execution_count": null,
      "metadata": {
        "id": "vU3ygBIqN3le"
      },
      "outputs": [],
      "source": [
        "# Pass dummy inputs to dummy NBeatsBlock layer\n",
        "backcast, forecast = dummy_nbeats_block_layer(dummy_inputs)\n",
        "# These are the activation outputs of the theta layer (they'll be random due to no training of the model)\n",
        "print(f\"Backcast: {tf.squeeze(backcast.numpy())}\")\n",
        "print(f\"Forecast: {tf.squeeze(forecast.numpy())}\")"
      ]
    },
    {
      "cell_type": "markdown",
      "metadata": {
        "id": "6fOGEHCPOsyI"
      },
      "source": [
        "### Preparing data for the N-BEATS algorithm using `tf.data`\n",
        "\n",
        "To make our input data load as fast as possible we're going to be adhering to the performant data pipeline steps in the tf.data guide:\n"
      ]
    },
    {
      "cell_type": "code",
      "execution_count": null,
      "metadata": {
        "id": "qK_z3NCYTGwP"
      },
      "outputs": [],
      "source": [
        "HORIZON = 1\n",
        "WINDOW_SIZE = 7"
      ]
    },
    {
      "cell_type": "code",
      "execution_count": null,
      "metadata": {
        "id": "DIM0YLuhTLdu"
      },
      "outputs": [],
      "source": [
        "# Create NBEATS data inputs (N-BEATS works with univariate time series)\n",
        "bitcoin_prices.head()"
      ]
    },
    {
      "cell_type": "code",
      "execution_count": null,
      "metadata": {
        "id": "JXjkhV9-TeYX"
      },
      "outputs": [],
      "source": [
        "# Add windowed columns\n",
        "bitcoin_prices_nbeats = bitcoin_prices.copy()\n",
        "for i in range(WINDOW_SIZE):\n",
        "  bitcoin_prices_nbeats[f\"Price+{i+1}\"] = bitcoin_prices_nbeats[\"Price\"].shift(periods=i+1)\n",
        "bitcoin_prices_nbeats.head()"
      ]
    },
    {
      "cell_type": "code",
      "execution_count": null,
      "metadata": {
        "id": "PhCj7lziULKX"
      },
      "outputs": [],
      "source": [
        "# Make features and labels\n",
        "x = bitcoin_prices_nbeats.dropna().drop(\"Price\", axis=1)\n",
        "y = bitcoin_prices_nbeats.dropna()[\"Price\"]\n",
        "\n",
        "# Make train and test sets\n",
        "split_size = int(len(x) * 0.8)\n",
        "x_train, y_train = x[:split_size], y[:split_size]\n",
        "x_test, y_test = x[split_size:], y[split_size:]\n",
        "len(x_train), len(y_train), len(x_test), len(y_test)"
      ]
    },
    {
      "cell_type": "code",
      "execution_count": null,
      "metadata": {
        "id": "4bDz23xMVVV3"
      },
      "outputs": [],
      "source": [
        "# Time to make our dataset performant using tf.dataAPI\n",
        "train_features_dataset = tf.data.Dataset.from_tensor_slices(x_train)\n",
        "train_labels_dataset = tf.data.Dataset.from_tensor_slices(y_train)\n",
        "\n",
        "test_features_dataset = tf.data.Dataset.from_tensor_slices(x_test)\n",
        "test_labels_dataset = tf.data.Dataset.from_tensor_slices(y_test)\n",
        "\n",
        "# Combine labels and features by zipping together -> (features, labels)\n",
        "train_dataset = tf.data.Dataset.zip((train_features_dataset, train_labels_dataset))\n",
        "test_dataset = tf.data.Dataset.zip((test_features_dataset, test_labels_dataset))\n",
        "\n",
        "# Batch and prefetch for optimal performance\n",
        "BATCH_SIZE = 1024\n",
        "train_dataset = train_dataset.batch(BATCH_SIZE).prefetch(tf.data.AUTOTUNE)\n",
        "test_dataset = test_dataset.batch(BATCH_SIZE).prefetch(tf.data.AUTOTUNE)\n",
        "\n",
        "train_dataset, test_dataset"
      ]
    },
    {
      "cell_type": "markdown",
      "metadata": {
        "id": "XAz98sS0YFdf"
      },
      "source": [
        "### Setting up hyperparameters for N-BEATS algorithm\n",
        "\n",
        "The N-BEATS algorithm has a fair few number of parameters, many of them can be found in Table 18 : https://arxiv.org/pdf/1905.10437.pdf"
      ]
    },
    {
      "cell_type": "code",
      "execution_count": null,
      "metadata": {
        "id": "v2QXUDppY9-v"
      },
      "outputs": [],
      "source": [
        "# Values from N-BEATS paper\n",
        "N_EPOCHS = 5000\n",
        "N_NEURONS = 512\n",
        "N_LAYERS = 4\n",
        "N_STACKS = 30\n",
        "\n",
        "INPUT_SIZE = WINDOW_SIZE * HORIZON\n",
        "THETA_SIZE = INPUT_SIZE + HORIZON\n",
        "\n",
        "INPUT_SIZE, THETA_SIZE"
      ]
    },
    {
      "cell_type": "markdown",
      "metadata": {
        "id": "8QoNqDSA5NdI"
      },
      "source": [
        "### Getting ready for residual connections\n",
        "\n",
        "Before we can craft our N-BEATS model, we need two layers for the residual connections(subtract and add)\n",
        "\n",
        "The N-BEATS algorithm uses doublt residual stacking to help train its deeper architecture (section 3.2 of N-BEATS paper)"
      ]
    },
    {
      "cell_type": "code",
      "execution_count": null,
      "metadata": {
        "id": "n30b3_OB8QXF"
      },
      "outputs": [],
      "source": [
        "# Make tensors\n",
        "tensor_1 = tf.range(10) + 10\n",
        "tensor_2 = tf.range(10)\n",
        "\n",
        "# Subtract\n",
        "subtracted = layers.subtract([tensor_1, tensor_2])\n",
        "\n",
        "# Add\n",
        "added = layers.add([tensor_1, tensor_2])\n",
        "\n",
        "# Get outputs\n",
        "print(f\"Input tensors: {tensor_1.numpy()} & {tensor_2.numpy()}\")\n",
        "print(f\"Subtracted: {subtracted.numpy()}\")\n",
        "print(f\"Added: {added.numpy()}\")"
      ]
    },
    {
      "cell_type": "markdown",
      "metadata": {
        "id": "hue7yfEk9FjP"
      },
      "source": [
        "## Building, compiling and fitting the N-BEATS algorithm\n",
        "\n",
        "1. Setup an instance of the N-BEATS block layer using `NBeatsBlock` (this'll be the initial block used for the network, the rest will be created as part of stacks)\n",
        "2. Create an input layer for the N-BEATS stacks (we'll be using the [Keras Functional API](https://www.tensorflow.org/guide/keras/functional) for this)\n",
        "3. Make the initial backcast and forecasts for the model with the layer created in (1)\n",
        "4. Use a for loop to create stacks of block layers\n",
        "5. Use the NBeatsBlock class within the for loop created in (4) to create blocks which return backcasts and block-level forecasts\n",
        "6. Create the double residual stacking using subtract and add layers\n",
        "7. Put the model inputs and outputs together using [`tf.keras.Model()`](https://www.tensorflow.org/api_docs/python/tf/keras/Model)\n",
        "8. Compile the model with MAE loss (the paper uses multiple losses but we'll use MAE to keep it inline with our other models) and Adam optimizer with default settings as per section 5.2 of [N-BEATS paper](https://arxiv.org/pdf/1905.10437.pdf))\n",
        "9. Fit the N-BEATS model for 5000 epochs and since it's fitting for so many epochs, we'll use a couple of callbacks:\n",
        "  * [`tf.keras.callbacks.EarlyStopping()`](https://www.tensorflow.org/api_docs/python/tf/keras/callbacks/EarlyStopping) - stop the model from training if it doesn't improve validation loss for 200 epochs and restore the best performing weights using `restore_best_weights=True` (this'll prevent the model from training for loooongggggg period of time without improvement)\n",
        "  * [`tf.keras.callbacks.ReduceLROnPlateau()`](https://www.tensorflow.org/api_docs/python/tf/keras/callbacks/ReduceLROnPlateau) - if the model's validation loss doesn't improve for 100 epochs, reduce the learning rate by 10x to try and help it make incremental improvements (the smaller the learning rate, the smaller updates a model tries to make)"
      ]
    },
    {
      "cell_type": "code",
      "execution_count": null,
      "metadata": {
        "id": "24J7nuCI_JnF"
      },
      "outputs": [],
      "source": [
        "%%time\n",
        "\n",
        "tf.random.set_seed(42)\n",
        "\n",
        "# 1. Setup and instance of NBeatsBlock\n",
        "nbeats_block_layer = NBeatsBlock(input_size=INPUT_SIZE,\n",
        "                                 theta_size=THETA_SIZE,\n",
        "                                 horizon=HORIZON,\n",
        "                                 n_neurons=N_NEURONS,\n",
        "                                 n_layers=N_LAYERS,\n",
        "                                 name=\"InitialBlock\")\n",
        "\n",
        "# 2. Create input to stack\n",
        "stack_input = layers.Input(shape=(INPUT_SIZE), name=\"stack_input\")\n",
        "\n",
        "# 3. Create initial backcast and forecast input (backwards prediction + horizon prediction)\n",
        "residuals, forecast = nbeats_block_layer(stack_input)\n",
        "\n",
        "# 4. Create stacks of block layers\n",
        "for i, _ in enumerate(range(N_STACKS-1)):   # First stack is already created in 3\n",
        "\n",
        "   # 5. Use the NBeatsBlock to caculate the backcast as well as the forecast\n",
        "   backcast, block_forecast = NBeatsBlock(\n",
        "       input_size=INPUT_SIZE,\n",
        "       theta_size=THETA_SIZE,\n",
        "       horizon=HORIZON,\n",
        "       n_neurons=N_NEURONS,\n",
        "       n_layers=N_LAYERS,\n",
        "       name=f\"NBeatsBlock_{i}\"\n",
        "   )(residuals) # pass in the residuals\n",
        "\n",
        "   # 6. Create the double residual stacking\n",
        "   residuals = layers.subtract([residuals, backcast], name=f\"subtract_{i}\")\n",
        "   forecast = layers.add([forecast, block_forecast], name=f\"add_{i}\")\n",
        "\n",
        "# 7. Put the stack model together\n",
        "model_7 = tf.keras.Model(inputs=stack_input, outputs=forecast, name=\"model_7_NBEATS\")\n",
        "\n",
        "# 8. Compile model with MAE loss\n",
        "model_7.compile(loss=\"mae\",\n",
        "                optimizer=tf.keras.optimizers.Adam())\n",
        "\n",
        "# 9. Fit the model with EarlyStopping and ReduceLRonPlateau callbacks\n",
        "model_7.fit(train_dataset,\n",
        "            epochs=N_EPOCHS,\n",
        "            validation_data=test_dataset,\n",
        "            verbose=0,\n",
        "            callbacks=[tf.keras.callbacks.EarlyStopping(monitor=\"val_loss\",\n",
        "                                                           patience=200,\n",
        "                                                           restore_best_weights=True),\n",
        "                       tf.keras.callbacks.ReduceLROnPlateau(monitor=\"val_loss\",\n",
        "                                                            patience=100,\n",
        "                                                            verbose=1)])"
      ]
    },
    {
      "cell_type": "code",
      "execution_count": null,
      "metadata": {
        "id": "mhI2fpXYHGU3"
      },
      "outputs": [],
      "source": [
        "# Evaluate N-Beats model on the test dataset\n",
        "model_7.evaluate(test_dataset)"
      ]
    },
    {
      "cell_type": "code",
      "execution_count": null,
      "metadata": {
        "id": "V9RzsFrWHmCO"
      },
      "outputs": [],
      "source": [
        "# Make predictions with N-BEATS model\n",
        "model_7_preds = make_preds(model_7, test_dataset)\n",
        "model_7_preds[:10]"
      ]
    },
    {
      "cell_type": "code",
      "execution_count": null,
      "metadata": {
        "id": "90EEcBaAHyN6"
      },
      "outputs": [],
      "source": [
        "# Evaluate N-BEATS model preds\n",
        "model_7_results = evaluate_preds(y_true=y_test,\n",
        "                                 y_pred=model_7_preds)\n",
        "model_7_results"
      ]
    },
    {
      "cell_type": "code",
      "execution_count": null,
      "metadata": {
        "id": "U2VsfXu_IAqX"
      },
      "outputs": [],
      "source": [
        "model_1_results"
      ]
    },
    {
      "cell_type": "markdown",
      "metadata": {
        "id": "-biiBPp9I6S2"
      },
      "source": [
        "### Plotting the N-BEATS  architecture we've created"
      ]
    },
    {
      "cell_type": "code",
      "execution_count": null,
      "metadata": {
        "id": "XO595Rd-Fsua"
      },
      "outputs": [],
      "source": [
        "# Plot the N-BEATS model and inspect the architecture\n",
        "from tensorflow.keras.utils import plot_model\n",
        "plot_model(model_7)"
      ]
    },
    {
      "cell_type": "markdown",
      "metadata": {
        "id": "lGc7g2xQF8x5"
      },
      "source": [
        "## Model 8: Creating an ensemble (stacking different models together)\n",
        "\n",
        "An ensemble leverages the wisdom of the crowd effect.\n",
        "\n",
        "It combines many *different* models to predict to common goal.\n"
      ]
    },
    {
      "cell_type": "markdown",
      "metadata": {
        "id": "XKJ1gUwyHOvz"
      },
      "source": [
        "### Constructing and fitting and ensemble of models (using different loss functions)"
      ]
    },
    {
      "cell_type": "code",
      "execution_count": null,
      "metadata": {
        "id": "ZE6e0y5dJFdr"
      },
      "outputs": [],
      "source": [
        "def get_ensemble_models(horizon=HORIZON,\n",
        "                        train_data=train_dataset,\n",
        "                        test_data=test_dataset,\n",
        "                        num_iter=10,\n",
        "                        num_epochs=1000,\n",
        "                        loss_fn=[\"mae\", \"mse\", \"mape\"]):\n",
        "  \"\"\"\n",
        "  Returns a list of num_iter models each trained on MAE, MSE and MAPE loss.\n",
        "\n",
        "  For example, if num_iter=10, a list of 30 trained models will be returned:\n",
        "  10 * len([\"mae\",\"mse\",\"mape\"])\n",
        "  \"\"\"\n",
        "  # Make empty list for trained ensemble models\n",
        "  ensemble_models = []\n",
        "\n",
        "  # Create num_iter number of models per loss function\n",
        "  for i in range(num_iter):\n",
        "    # Build and fit a new model with a different loss function\n",
        "    for loss_function in loss_fn:\n",
        "      print(f\"Optimizing model by recording: {loss_function} for {num_epochs} epochs, model number: {i}\")\n",
        "\n",
        "      # Construct a simple model (similar to model_1)\n",
        "      model = tf.keras.Sequential([\n",
        "          # Initialize dense layers with normal distribution for estimating prediction intervals later on\n",
        "          layers.Dense(128, kernel_initializer=\"he_normal\", activation=\"relu\"),\n",
        "          layers.Dense(128, kernel_initializer=\"he_normal\", activation=\"relu\"),\n",
        "          layers.Dense(HORIZON)\n",
        "      ])\n",
        "\n",
        "      # Compile simple model with current loss function\n",
        "      model.compile(loss=loss_function,\n",
        "                    optimizer=tf.keras.optimizers.Adam(),\n",
        "                    metrics=[\"mae\", \"mse\"])\n",
        "\n",
        "      # Fit the current model\n",
        "      model.fit(train_data,\n",
        "                epochs=num_epochs,\n",
        "                verbose=0,\n",
        "                validation_data=test_data,\n",
        "                callbacks=[tf.keras.callbacks.EarlyStopping(monitor=\"val_loss\",\n",
        "                                                            patience=200,\n",
        "                                                            restore_best_weights=True),\n",
        "                           tf.keras.callbacks.ReduceLROnPlateau(monitor=\"val_loss\",\n",
        "                                                                patience=100,\n",
        "                                                                verbose=1)])\n",
        "\n",
        "      # Append fitted model to list of ensemble models\n",
        "      ensemble_models.append(model)\n",
        "\n",
        "  return ensemble_models"
      ]
    },
    {
      "cell_type": "code",
      "execution_count": null,
      "metadata": {
        "id": "OtJTV6CSNbYB"
      },
      "outputs": [],
      "source": [
        "%%time\n",
        "# Get lsit of trained ensemble models\n",
        "ensemble_models = get_ensemble_models(num_iter=5,\n",
        "                                      num_epochs=1000)"
      ]
    },
    {
      "cell_type": "markdown",
      "metadata": {
        "id": "4EMDBJn8RFWu"
      },
      "source": [
        "### Make predictions with our ensemble model"
      ]
    },
    {
      "cell_type": "code",
      "execution_count": null,
      "metadata": {
        "id": "PuHGyuM2Rfi4"
      },
      "outputs": [],
      "source": [
        "# Create a function which uses a list of trained models to make and returns a list of predictions\n",
        "def make_ensemble_preds(ensemble_models, data):\n",
        "  ensemble_preds = []\n",
        "  for model in ensemble_models:\n",
        "    preds = model.predict(data)\n",
        "    ensemble_preds.append(preds)\n",
        "  return tf.constant(tf.squeeze(ensemble_preds))"
      ]
    },
    {
      "cell_type": "code",
      "execution_count": null,
      "metadata": {
        "id": "hmbSk1cpSKfr"
      },
      "outputs": [],
      "source": [
        "# Create a list of ensemble predictions\n",
        "%%time\n",
        "ensemble_preds = make_ensemble_preds(ensemble_models=ensemble_models,\n",
        "                                     data=test_dataset)\n",
        "ensemble_preds"
      ]
    },
    {
      "cell_type": "code",
      "execution_count": null,
      "metadata": {
        "id": "noZtCdUYT5Z3"
      },
      "outputs": [],
      "source": [
        "ensemble_mean = tf.reduce_mean(ensemble_preds, axis=0)\n",
        "ensemble_mean[:10]"
      ]
    },
    {
      "cell_type": "code",
      "execution_count": null,
      "metadata": {
        "id": "S_BdR5q6UKSk"
      },
      "outputs": [],
      "source": [
        "ensemble_median = np.median(ensemble_preds, axis=0)\n",
        "ensemble_median[:10]"
      ]
    },
    {
      "cell_type": "code",
      "execution_count": null,
      "metadata": {
        "id": "VnoAF3sPSdnB"
      },
      "outputs": [],
      "source": [
        "# Evaluate ensemble model predictions\n",
        "ensemble_results = evaluate_preds(y_true=y_test,\n",
        "                                  y_pred=ensemble_preds)\n",
        "ensemble_results"
      ]
    },
    {
      "cell_type": "code",
      "execution_count": null,
      "metadata": {
        "id": "fh8PHTH5TxFp"
      },
      "outputs": [],
      "source": [
        "# Evaluate ensemble model predictions\n",
        "ensemble_results = evaluate_preds(y_true=y_test,\n",
        "                                  y_pred=ensemble_mean)\n",
        "ensemble_results"
      ]
    },
    {
      "cell_type": "markdown",
      "source": [
        "### PLotting the prediction intervals (uncertainty estimates) of our ensemble\n",
        "\n",
        "So far we've been making point predictions with our models.\n",
        "\n",
        "E.g. horizon = 1, our model predicts tomorrow's price of Bitcoin will be $50,000USD\n",
        "\n",
        "Wouldn't it be helpful if we knew a range of where that prediction came from?\n",
        "\n",
        "Instead of 50,000 USD on the dot, how about 48,000 to 52,000 USD?\n",
        "\n",
        "To get the 95% confidence prediction intervals for a deep learning model is the bootstrap method:\n",
        "1. Take the predictions from a number of randomly initialized models (we've got this thanks to our ensemble models)\n",
        "2. Measure the standard deviation of the predictions\n",
        "3. Multiply the standard deviation by 1.96 (assuming the distribution is Guassian/Normal, 95% of observations fall within 1.96 standard deviation of the mean)\n",
        "4. To get the prediction interval upper and lower bounds, add subtract the value obtained in (3) to the mean/median of the predictions made in (1)"
      ],
      "metadata": {
        "id": "UEBQMZgXVIMY"
      }
    },
    {
      "cell_type": "code",
      "source": [
        "# Find the upper and lower bounds of ensemble predictions\n",
        "def get_upper_lower(preds):\n",
        "  # 2. Measure the standard deviation of the predictions\n",
        "  std = tf.math.reduce_std(preds, axis=0)\n",
        "\n",
        "  # 3. Multiply the standard deviation  by 1.96\n",
        "  interval = 1.96 * std\n",
        "\n",
        "  # 4. Get the prediction interval upper and lower bounds\n",
        "  preds_mean = tf.reduce_mean(preds, axis=0)\n",
        "  lower, upper = preds_mean - interval, preds_mean + interval\n",
        "\n",
        "  return lower, upper"
      ],
      "metadata": {
        "id": "xukxh8EMGuga"
      },
      "execution_count": null,
      "outputs": []
    },
    {
      "cell_type": "code",
      "source": [
        "# Get the upper and lower bounds of the 95% precent prediction interval\n",
        "lower, upper = get_upper_lower(preds=ensemble_preds)"
      ],
      "metadata": {
        "id": "-7SDtr9ZLFiB"
      },
      "execution_count": null,
      "outputs": []
    },
    {
      "cell_type": "code",
      "source": [
        "# GEt the median/mean values of our ensemble preds\n",
        "ensemble_median = np.median(ensemble_preds, axis=0)\n",
        "\n",
        "# Plot the median of our ensemble preds along with the prediction intervals\n",
        "offset=500\n",
        "plt.figure(figsize=(10, 7))\n",
        "plt.plot(x_test.index[offset:], y_test[offset:], \"g\", label=\"Test Data\")\n",
        "plt.plot(x_test.index[offset:], ensemble_median[offset:], \"k\", label=\"Ensemble Median\")\n",
        "plt.xlabel(\"Data\")\n",
        "plt.ylabel(\"BTC Price\")\n",
        "# To plot the upper and lower bounds, let's use fill_between\n",
        "plt.fill_between(x_test.index[offset:],\n",
        "                 (lower)[offset:],\n",
        "                 (upper)[offset:], label=\"Prediction Intervals\")\n",
        "plt.legend(loc=\"upper left\", fontsize=14);"
      ],
      "metadata": {
        "id": "L8ha7VYwLVXB"
      },
      "execution_count": null,
      "outputs": []
    },
    {
      "cell_type": "markdown",
      "source": [
        "## Model 9: Train a model on the full historical data to make predictions into the future\n",
        "\n",
        "So far all of our models have predicted to the test dataset, however, this is only a pseudofuture.\n",
        "\n",
        "Let's now build a model which is capable of predicting into the future!"
      ],
      "metadata": {
        "id": "3SomTzmnNbRj"
      }
    },
    {
      "cell_type": "code",
      "source": [
        "HORIZON = 1\n",
        "WINDOW_SIZE = 7"
      ],
      "metadata": {
        "id": "CtAbQhyHX9RR"
      },
      "execution_count": null,
      "outputs": []
    },
    {
      "cell_type": "code",
      "source": [
        "bitcoin_prices_windowed.head()"
      ],
      "metadata": {
        "id": "KSnHJTNuXyw-"
      },
      "execution_count": null,
      "outputs": []
    },
    {
      "cell_type": "code",
      "source": [
        "bitcoin_prices_windowed.tail()"
      ],
      "metadata": {
        "id": "MwaabiZfX7pO"
      },
      "execution_count": null,
      "outputs": []
    },
    {
      "cell_type": "code",
      "source": [
        "# Train model on entire data to make predictions for the next day\n",
        "x_all = bitcoin_prices_windowed.dropna().drop([\"Price\", \"block_reward\"], axis=1).to_numpy()\n",
        "# Get labels\n",
        "y_all = bitcoin_prices_windowed.dropna()[\"Price\"].to_numpy()\n",
        "\n",
        "len(x_all), len(y_all)"
      ],
      "metadata": {
        "id": "zNStLM7qYGM_"
      },
      "execution_count": null,
      "outputs": []
    },
    {
      "cell_type": "code",
      "source": [
        "x_all[:5], y_all[:5]"
      ],
      "metadata": {
        "id": "1YXIDan2Y0bQ"
      },
      "execution_count": null,
      "outputs": []
    },
    {
      "cell_type": "code",
      "source": [
        "# Turn data into efficient running tensors\n",
        "\n",
        "features_dataset_all = tf.data.Dataset.from_tensor_slices(x_all)\n",
        "labels_dataset_all = tf.data.Dataset.from_tensor_slices(y_all)\n",
        "\n",
        "# Combine feature and labels\n",
        "dataset_all = tf.data.Dataset.zip((features_dataset_all, labels_dataset_all))\n",
        "\n",
        "# Batch and prefetch for optimal performance\n",
        "BATCH_SIZE = 1024\n",
        "dataset_all = dataset_all.batch(BATCH_SIZE).prefetch(tf.data.AUTOTUNE)\n",
        "\n",
        "dataset_all"
      ],
      "metadata": {
        "id": "TlspVwCXZFVn"
      },
      "execution_count": null,
      "outputs": []
    },
    {
      "cell_type": "code",
      "source": [
        "tf.random.set_seed(42)\n",
        "\n",
        "# Create a model\n",
        "model_9 = tf.keras.Sequential([\n",
        "    layers.Dense(128, activation=\"relu\"),\n",
        "    layers.Dense(128, activation=\"relu\"),\n",
        "    layers.Dense(HORIZON)\n",
        "])\n",
        "\n",
        "# Compile\n",
        "model_9.compile(loss=tf.keras.losses.mae,\n",
        "                optimizer=tf.keras.optimizers.Adam())\n",
        "\n",
        "# Fit model on all of the data to make future forecasts\n",
        "model_9.fit(dataset_all,\n",
        "            epochs=100,\n",
        "            verbose=0)"
      ],
      "metadata": {
        "id": "3eeI4vPBZ12u"
      },
      "execution_count": null,
      "outputs": []
    },
    {
      "cell_type": "markdown",
      "source": [
        "### Make predictions into future"
      ],
      "metadata": {
        "id": "pxKNVVMHa05n"
      }
    },
    {
      "cell_type": "code",
      "source": [
        "# How many timesteps to predict into the future ?\n",
        "INTO_FUTURE = 14"
      ],
      "metadata": {
        "id": "c8I5OY1Pbn0x"
      },
      "execution_count": null,
      "outputs": []
    },
    {
      "cell_type": "markdown",
      "source": [
        "To make predictions into the future we want a function which:\n",
        "1. Takes as input:\n",
        "\n",
        " * a list of values (Bitcoin historical data)\n",
        " * a trained model (such as `model_9`)\n",
        " * a window into the future to predict (our `INTO_FUTURE` variable)\n",
        " * the window size a model was trained on (`WINDOW_SIZE`) - the model can only predict on the same kind of data it was trained on\n",
        "\n",
        "2. Creates an empty lsit for future forecasts (this will be returned at the end of the end, when it's full of predictions) and extracts the last `WINDOW_SIZE`  values from the input values\n",
        "\n",
        "3. Loop `INTO_FUTURE` times making a prediction on `WINDOW_SIZE` sequence which update to remove the first value and append the latest prediction"
      ],
      "metadata": {
        "id": "XnzsJgdfcY4J"
      }
    },
    {
      "cell_type": "code",
      "source": [
        "# 1. Create functon to make predictions into the future\n",
        "def make_future_forecasts(values, model, into_future, window_size=WINDOW_SIZE) -> list:\n",
        "  \"\"\"\n",
        "  Make future forecast into_future steps after values ends.\n",
        "\n",
        "  Returns future forecasts as a list of floats.\n",
        "  \"\"\"\n",
        "  # 2. Create an empty lsit for future forecasts/prepare data to forecast on\n",
        "  future_forecast = []\n",
        "  last_window = values[-WINDOW_SIZE:]\n",
        "\n",
        "  # 3. Make INTO_FUTRE number of predictions, altering the data which gets predicted on each\n",
        "  for _ in range(INTO_FUTURE):\n",
        "    # Predict on the last window then append it again\n",
        "    future_pred = model.predict(tf.expand_dims(last_window, axis=0))\n",
        "    print(f\"Predicting on:\\n {last_window} -> Prediction: {tf.squeeze(future_pred).numpy()}\\n\")\n",
        "\n",
        "    # Append predictions to future_forecast\n",
        "    future_forecast.append(tf.squeeze(future_pred).numpy())\n",
        "\n",
        "    # Update last window with new pred and get WINDOW_SIZE most recent preds\n",
        "    last_window = np.append(last_window, future_pred)[-WINDOW_SIZE:]\n",
        "\n",
        "  return future_forecast"
      ],
      "metadata": {
        "id": "zrLuzvjMeJWp"
      },
      "execution_count": null,
      "outputs": []
    },
    {
      "cell_type": "code",
      "source": [
        "# Make forecast into the future\n",
        "future_forecast = make_future_forecasts(values=y_all,\n",
        "                                        model=model_9,\n",
        "                                        into_future=INTO_FUTURE,\n",
        "                                        window_size=WINDOW_SIZE)"
      ],
      "metadata": {
        "id": "W9pu01NxslxW"
      },
      "execution_count": null,
      "outputs": []
    },
    {
      "cell_type": "code",
      "source": [
        "bitcoin_prices_windowed.tail()"
      ],
      "metadata": {
        "id": "rMllFX7UtG1G"
      },
      "execution_count": null,
      "outputs": []
    },
    {
      "cell_type": "markdown",
      "source": [
        "### Plot future forecast"
      ],
      "metadata": {
        "id": "Yv8mYfxstdoV"
      }
    },
    {
      "cell_type": "code",
      "source": [
        "future_forecast"
      ],
      "metadata": {
        "id": "2VpD5CuBtspv"
      },
      "execution_count": null,
      "outputs": []
    },
    {
      "cell_type": "code",
      "source": [
        "def get_future_dates(start_date, into_future, offset=1):\n",
        "  \"\"\"\n",
        "  Returns array of datetime values ranging from start_date to start_date+into_future\n",
        "  \"\"\"\n",
        "  start_date = start_date + np.timedelta64(offset, \"D\")\n",
        "  end_date = start_date + np.timedelta64(into_future, \"D\")\n",
        "  return np.arange(start_date, end_date, dtype=\"datetime64[D]\")"
      ],
      "metadata": {
        "id": "1lXNjHF5tutO"
      },
      "execution_count": null,
      "outputs": []
    },
    {
      "cell_type": "code",
      "source": [
        "# Last timestep of timesteps (currently np.datetime64 format)\n",
        "last_timestep = bitcoin_prices.index[-1]\n",
        "last_timestep"
      ],
      "metadata": {
        "id": "HSYfHBwNu0X2"
      },
      "execution_count": null,
      "outputs": []
    },
    {
      "cell_type": "code",
      "source": [
        "# Get next two week of timesteps\n",
        "next_time_steps = get_future_dates(start_date=last_timestep,\n",
        "                                   into_future=INTO_FUTURE)\n",
        "next_time_steps"
      ],
      "metadata": {
        "id": "HS6VOFcCvD_u"
      },
      "execution_count": null,
      "outputs": []
    },
    {
      "cell_type": "code",
      "source": [
        "# Insert last timestep/final price into next time steps and future forecasts so the plot look's complete\n",
        "next_time_steps = np.insert(next_time_steps, 0, last_timestep)\n",
        "future_forecast = np.insert(future_forecast, 0, btc_price[-1])\n",
        "next_time_steps, future_forecast"
      ],
      "metadata": {
        "id": "ZUzTh3CpwI1p"
      },
      "execution_count": null,
      "outputs": []
    },
    {
      "cell_type": "code",
      "source": [
        "# Plot future prices predictions of Bitcoin\n",
        "plt.figure(figsize=(10, 7))\n",
        "plot_time_series(bitcoin_prices.index, btc_price, start=2500, format=\"-\", label=\"Actual BTC Price\")\n",
        "plot_time_series(next_time_steps, future_forecast, format=\"-\", label=\"Predicted BTC Price\")"
      ],
      "metadata": {
        "id": "uU-IJWSWvWUG"
      },
      "execution_count": null,
      "outputs": []
    },
    {
      "cell_type": "markdown",
      "source": [
        "## Model 10: Why forecasting is BS (the turkey problem)"
      ],
      "metadata": {
        "id": "CxPmKPb-wAFt"
      }
    },
    {
      "cell_type": "code",
      "source": [
        "# Let's introduce a turkey problem to our BTC data (price of BTC falls 100x in one day)\n",
        "btc_price_turkey = btc_price.copy()\n",
        "btc_price_turkey[-1] = btc_price_turkey[-1]/ 100"
      ],
      "metadata": {
        "id": "EuISlDrdzRKd"
      },
      "execution_count": null,
      "outputs": []
    },
    {
      "cell_type": "code",
      "source": [
        "# Manufacture an extra price on the end (to showcase our Turkey problem)\n",
        "btc_price_turkey[-10:]"
      ],
      "metadata": {
        "id": "yFG59sG-0LwX"
      },
      "execution_count": null,
      "outputs": []
    },
    {
      "cell_type": "code",
      "source": [
        "# Get the timesteps for the turkey problem\n",
        "btc_timesteps_turkey = np.array(bitcoin_prices.index)\n",
        "btc_timesteps_turkey[-10:]"
      ],
      "metadata": {
        "id": "-VZ-H8_g0O0V"
      },
      "execution_count": null,
      "outputs": []
    },
    {
      "cell_type": "code",
      "source": [
        "plt.figure(figsize=(10, 7))\n",
        "plot_time_series(timesteps=btc_timesteps_turkey,\n",
        "                 values=btc_price_turkey,\n",
        "                 format=\"-\",\n",
        "                 label=\"BTC Price + Turkey problem\",\n",
        "                 start=2500\n",
        "                 )"
      ],
      "metadata": {
        "id": "34FFFoR_071d"
      },
      "execution_count": null,
      "outputs": []
    },
    {
      "cell_type": "code",
      "source": [
        "# Create train and test sets for turkey problem data\n",
        "full_windows, full_labels = make_windows(np.array(btc_price_turkey), window_size=WINDOW_SIZE, horizon=HORIZON)\n",
        "\n",
        "x_train, x_test, y_train, y_test = make_train_test_splits(full_windows, full_labels)\n",
        "len(x_train), len(x_test), len(y_train), len(y_test)"
      ],
      "metadata": {
        "id": "0noEc_LP1c74"
      },
      "execution_count": null,
      "outputs": []
    },
    {
      "cell_type": "code",
      "source": [
        "model_1.summary()"
      ],
      "metadata": {
        "id": "uoJbizBB3D8N"
      },
      "execution_count": null,
      "outputs": []
    },
    {
      "cell_type": "markdown",
      "source": [
        "### Build a turkey model (model to predict on Turkey data)"
      ],
      "metadata": {
        "id": "UQ-gJALr3IcF"
      }
    },
    {
      "cell_type": "code",
      "source": [
        "# Clone model 1 architecture for turkey model and fit the turkey model on the turkey data\n",
        "turkey_model = tf.keras.models.clone_model(model_1)\n",
        "turkey_model._name = \"model_10_turkey_model\"\n",
        "turkey_model.compile(loss=\"mae\",\n",
        "                     optimizer=tf.keras.optimizers.Adam())\n",
        "\n",
        "turkey_model.fit(x_train, y_train,\n",
        "                 epochs=100,\n",
        "                 verbose=0,\n",
        "                 batch_size=128,\n",
        "                 validation_data=(x_test, y_test),\n",
        "                 callbacks=[create_model_checkpoint(turkey_model.name)])"
      ],
      "metadata": {
        "id": "RXuq2OGc3Y80"
      },
      "execution_count": null,
      "outputs": []
    },
    {
      "cell_type": "code",
      "source": [
        "#Evaluate model on test data\n",
        "turkey_model.evaluate(x_test, y_test)"
      ],
      "metadata": {
        "id": "vwIpXQbr4JmP"
      },
      "execution_count": null,
      "outputs": []
    },
    {
      "cell_type": "code",
      "source": [
        "# Load best performing turkey model and evaluate on test data\n",
        "turkey_model = tf.keras.models.load_model(\"model_experiments/model_10_turkey_model\")\n",
        "turkey_model.evaluate(x_test, y_test)"
      ],
      "metadata": {
        "id": "cxxT65Me4W6-"
      },
      "execution_count": null,
      "outputs": []
    },
    {
      "cell_type": "code",
      "source": [
        "# Make predictions with turkey model\n",
        "turkey_preds = make_preds(turkey_model, x_test)\n",
        "turkey_preds[:10]"
      ],
      "metadata": {
        "id": "8VtK0gDQ4uDe"
      },
      "execution_count": null,
      "outputs": []
    },
    {
      "cell_type": "code",
      "source": [
        "turkey_results = evaluate_preds(y_true=y_test,\n",
        "                                y_pred=turkey_preds)\n",
        "turkey_results"
      ],
      "metadata": {
        "id": "YolTmsZN46U-"
      },
      "execution_count": null,
      "outputs": []
    },
    {
      "cell_type": "code",
      "source": [
        "model_1_results"
      ],
      "metadata": {
        "id": "gidqNt6Z5LD1"
      },
      "execution_count": null,
      "outputs": []
    },
    {
      "cell_type": "code",
      "source": [
        "plt.figure(figsize=(10, 7))\n",
        "offset=0\n",
        "plot_time_series(timesteps=btc_timesteps_turkey[-len(x_test):],\n",
        "                 values=btc_price_turkey[-len(y_test):],\n",
        "                 format=\"-\",\n",
        "                 label=\"Turkey Test Data\", start=offset)\n",
        "plot_time_series(timesteps=btc_timesteps_turkey[-len(x_test):],\n",
        "                 values=turkey_preds,\n",
        "                 label=\"Turkey Preds\",\n",
        "                 start=offset);"
      ],
      "metadata": {
        "id": "v_juGtBZ5Zo2"
      },
      "execution_count": null,
      "outputs": []
    },
    {
      "cell_type": "markdown",
      "source": [
        "## Compare models"
      ],
      "metadata": {
        "id": "vw4RSGli6dKm"
      }
    },
    {
      "cell_type": "code",
      "source": [
        "# Compare different model results (w = window, h = horizon, e.g. w=7 means a window size of 7)\n",
        "model_results = pd.DataFrame({\"naive_model\": naive_results,\n",
        "                              \"model_1_dense_w7_h1\": model_1_results,\n",
        "                              \"model_2_dense_w30_h1\": model_2_results,\n",
        "                              \"model_3_dense_w30_h7\": model_3_results,\n",
        "                              \"model_4_CONV1D\": model_4_results,\n",
        "                              \"model_5_LSTM\": model_5_results,\n",
        "                              \"model_6_multivariate\": model_6_results,\n",
        "                              \"model_7_NBEATS\": model_7_results,\n",
        "                              \"model_8_ensemble\": ensemble_results,\n",
        "                              \"model_10_turkey\": turkey_results}).T\n",
        "model_results.head(10)"
      ],
      "metadata": {
        "id": "63jnuem4Dp0l"
      },
      "execution_count": null,
      "outputs": []
    },
    {
      "cell_type": "code",
      "source": [
        "# Sort model results by MAE and plot them\n",
        "model_results[[\"mae\"]].sort_values(by=\"mae\").plot(figsize=(10, 7), kind=\"bar\");"
      ],
      "metadata": {
        "id": "6r8aimO8FHs9"
      },
      "execution_count": null,
      "outputs": []
    },
    {
      "cell_type": "code",
      "source": [],
      "metadata": {
        "id": "P_P9LN6DFkCU"
      },
      "execution_count": null,
      "outputs": []
    }
  ],
  "metadata": {
    "accelerator": "GPU",
    "colab": {
      "provenance": [],
      "authorship_tag": "ABX9TyPVo8aTn4UGE0A12lLYtqjI",
      "include_colab_link": true
    },
    "kernelspec": {
      "display_name": "Python 3",
      "name": "python3"
    },
    "language_info": {
      "name": "python"
    }
  },
  "nbformat": 4,
  "nbformat_minor": 0
}